{
  "nbformat": 4,
  "nbformat_minor": 0,
  "metadata": {
    "colab": {
      "provenance": [],
      "collapsed_sections": []
    },
    "kernelspec": {
      "name": "python3",
      "display_name": "Python 3"
    },
    "language_info": {
      "name": "python"
    }
  },
  "cells": [
    {
      "cell_type": "markdown",
      "source": [
        "# Approach \n",
        "1. Take a search term\n",
        "2. Search for all tags related to the term\n",
        "3. Get all top posts (all time set by default) of the tag\n",
        "4. Create a dataframe"
      ],
      "metadata": {
        "id": "mpBNUl2-ty2W"
      }
    },
    {
      "cell_type": "code",
      "execution_count": null,
      "metadata": {
        "id": "40fwSREzNfkx"
      },
      "outputs": [],
      "source": [
        "from bs4 import BeautifulSoup\n",
        "import requests\n",
        "import re\n",
        "import time\n",
        "from tqdm import tqdm\n",
        "import pandas as pd"
      ]
    },
    {
      "cell_type": "code",
      "source": [
        "SEARCH_TERMS = [\n",
        "    \"soft skills\",\n",
        "    \"collaboration\",\n",
        "    \"interpersonal communication\",\n",
        "    \"communication\",\n",
        "    \"creativity\",\n",
        "    \"relationship curation\",\n",
        "    \"self awareness\",\n",
        "    \"emotional intelligence\",\n",
        "    \"leadership\",\n",
        "    \"persistence\",\n",
        "    \"planning\",\n",
        "    \"stress management\"\n",
        "]\n",
        "TAG_SEARCHER_URL = \"https://medium.com/search/tags?q=\"\n",
        "\n",
        "def urlify(string) :\n",
        "  return string.replace(' ', '+')\n",
        "\n",
        "def scrape_page(url, parser='html.parser') :\n",
        "  page = requests.get(url)\n",
        "  assert page.status_code==200, f\"Request did not pass. Status : {page.status_code}\"\n",
        "  return BeautifulSoup(page.content, parser) \n",
        "\n",
        "def print_max_n(lst, N=10) :\n",
        "  l = len(lst)\n",
        "  if N==-1 : \n",
        "    N = l\n",
        "  print(f\"Printing first {min(l, N)} of {l} : \")\n",
        "  for i in range(min(l, N)) :\n",
        "    print(lst[i])\n",
        "\n",
        "def GET_TOP_BLOGS_URL(url_tag, time=\"all-time\"): \n",
        "  assert time in [\"all-time\", \"year\", \"month\", \"week\"], \"Invalid time filter\"\n",
        "  return f\"https://medium.com/tag/{url_tag}/top/{time}\""
      ],
      "metadata": {
        "id": "fw_QBVAYN7jU"
      },
      "execution_count": null,
      "outputs": []
    },
    {
      "cell_type": "markdown",
      "source": [
        "# Extract Tags Using Search Term"
      ],
      "metadata": {
        "id": "aD235f7Wp9Dp"
      }
    },
    {
      "cell_type": "code",
      "source": [
        "SEARCH_INDEX = 1\n",
        "TAG_SEARCHER_URL+urlify(SEARCH_TERMS[SEARCH_INDEX])"
      ],
      "metadata": {
        "colab": {
          "base_uri": "https://localhost:8080/",
          "height": 35
        },
        "id": "nLt31W9eOhJg",
        "outputId": "2c953eed-d4a0-42d9-8589-c58981ab1a9b"
      },
      "execution_count": null,
      "outputs": [
        {
          "output_type": "execute_result",
          "data": {
            "text/plain": [
              "'https://medium.com/search/tags?q=collaboration'"
            ],
            "application/vnd.google.colaboratory.intrinsic+json": {
              "type": "string"
            }
          },
          "metadata": {},
          "execution_count": 11
        }
      ]
    },
    {
      "cell_type": "code",
      "source": [
        "doc = scrape_page(TAG_SEARCHER_URL+urlify(SEARCH_TERMS[SEARCH_INDEX]))"
      ],
      "metadata": {
        "id": "rBJti3YhOPBq"
      },
      "execution_count": null,
      "outputs": []
    },
    {
      "cell_type": "code",
      "source": [
        "TAG_NAMES = []\n",
        "URLS_TAGS = []\n",
        "\n",
        "for element in doc.find_all(href=re.compile(\"/tag/.*\\?source=\")) : \n",
        "  href = element.attrs[\"href\"]\n",
        "  res = re.search(f\"/[A-Za-z0-9\\-]+\\?\", href)\n",
        "  if res : \n",
        "    b, e = res.span()\n",
        "    TAG_NAMES.append(element.text)\n",
        "    URLS_TAGS.append(href[b+1:e-1])\n",
        "print_max_n(TAG_NAMES)\n",
        "print_max_n(URLS_TAGS)"
      ],
      "metadata": {
        "colab": {
          "base_uri": "https://localhost:8080/"
        },
        "id": "g20Yuc72O312",
        "outputId": "e5988448-de14-4971-b2ee-a8423c2134e3"
      },
      "execution_count": null,
      "outputs": [
        {
          "output_type": "stream",
          "name": "stdout",
          "text": [
            "Printing first 10 of 14 : \n",
            "Stress Management\n",
            "Stress Management Tips\n",
            "Stress Management Therapy\n",
            "Stress Management Course\n",
            "Stress Management Clinic\n",
            "Stress Management Skills\n",
            "Stress Management Texas\n",
            "Stress Management Surrey\n",
            "Stress Management Nurses\n",
            "Stressmanagementcoach\n",
            "Printing first 10 of 14 : \n",
            "stress-management\n",
            "stress-management-tips\n",
            "stress-management-therapy\n",
            "stress-management-course\n",
            "stress-management-clinic\n",
            "stress-management-skills\n",
            "stress-management-texas\n",
            "stress-management-surrey\n",
            "stress-management-nurses\n",
            "stressmanagementcoach\n"
          ]
        }
      ]
    },
    {
      "cell_type": "markdown",
      "source": [
        "# Extract top posts of tag"
      ],
      "metadata": {
        "id": "I4X33YdQqCu1"
      }
    },
    {
      "cell_type": "code",
      "source": [
        "TAG_INDEX = 0\n",
        "doc2 = scrape_page(GET_TOP_BLOGS_URL(URLS_TAGS[TAG_INDEX]))"
      ],
      "metadata": {
        "id": "GrHs9AHGPrPb"
      },
      "execution_count": null,
      "outputs": []
    },
    {
      "cell_type": "code",
      "source": [
        "posts = []\n",
        "\n",
        "for article in doc2.find_all(\"article\") :\n",
        "  data = {}\n",
        "  reading_time_element = article.find(lambda x :  x.has_attr(\"aria-label\") and x.attrs[\"aria-label\"]==\"Post Preview Reading Time\")\n",
        "  if reading_time_element : \n",
        "    data[\"rtime\"] = reading_time_element.text\n",
        "  post_preview_element = article.find(lambda x :  x.has_attr(\"aria-label\") and x.attrs[\"aria-label\"]==\"Post Preview Title\")\n",
        "  if post_preview_element : \n",
        "    if post_preview_element.has_attr(\"href\") :\n",
        "      res = re.search(\"/[A-Za-z0-9\\-\\/]+\\?\", post_preview_element.attrs[\"href\"])\n",
        "      b, e = res.span()\n",
        "      data[\"article_url\"] = \"https://medium.com/\"+ post_preview_element.attrs[\"href\"][b+1 : e-1]\n",
        "    heading_element = post_preview_element.find(\"h2\")\n",
        "    if heading_element : \n",
        "      data[\"heading\"] = heading_element.text\n",
        "    para_element = post_preview_element.find(\"p\")\n",
        "    if para_element : \n",
        "      data[\"text_preview\"] = para_element.text\n",
        "  post_image_element = article.find(lambda x :  x.has_attr(\"aria-label\") and x.attrs[\"aria-label\"]==\"Post Preview Image\")\n",
        "  if post_image_element : \n",
        "    image_element = post_image_element.find(\"img\")\n",
        "    if image_element : \n",
        "      data[\"image_url\"] = image_element.attrs[\"src\"]\n",
        "  data[\"search_term\"] = SEARCH_TERMS[SEARCH_INDEX]\n",
        "  data[\"url_tag\"] = URLS_TAGS[TAG_INDEX]\n",
        "  data[\"tag_name\"] = TAG_NAMES[TAG_INDEX]\n",
        "  posts.append(data)"
      ],
      "metadata": {
        "id": "Eoxw3pIxYLV5"
      },
      "execution_count": null,
      "outputs": []
    },
    {
      "cell_type": "code",
      "source": [
        "posts"
      ],
      "metadata": {
        "colab": {
          "base_uri": "https://localhost:8080/"
        },
        "id": "Amzc7zIIbMvi",
        "outputId": "aa548ca2-098b-4bc1-b62f-3b82867c161e"
      },
      "execution_count": null,
      "outputs": [
        {
          "output_type": "execute_result",
          "data": {
            "text/plain": [
              "[{'rtime': '14 min read',\n",
              "  'article_url': 'https://medium.com/swlh/how-to-lead-when-you-have-no-authority-9f22206356d4',\n",
              "  'heading': 'How To Lead When You Have No Authority',\n",
              "  'text_preview': 'Four Pillars to Increase Your Influence Both at Work And in Life —  Everyone remembers the 2002 movie, My Big Fat Greek Wedding. It’s a hilarious story about the struggles of Toula (the daughter of a traditional Greek family) as she tries to fall in love and get married. There is one particular scene where Toula asks her father permission to go to…',\n",
              "  'image_url': 'https://miro.medium.com/fit/c/224/224/1*4LGVOiW7jWqnTW5h6yJWDw.jpeg',\n",
              "  'search_term': 'soft skills',\n",
              "  'url_tag': 'soft-skills',\n",
              "  'tag_name': 'Soft Skills'},\n",
              " {'rtime': '10 min read',\n",
              "  'article_url': 'https://medium.com/newco/hard-and-soft-skills-in-tech-8be00216f67f',\n",
              "  'heading': 'Hard and Soft Skills in Tech',\n",
              "  'text_preview': 'It’s both more serious and less serious than we’ve admitted —  I’ve recently seen a lot of very anxious responses from people in tech at anything which suggests that their “core skills” may be devalued, especially in favor of other skills which they haven’t spent their lives on. Most importantly, this shows up in the argument over “hard” versus “soft” skills…',\n",
              "  'image_url': 'https://miro.medium.com/fit/c/224/224/1*KOzo8na59IadorHZYXoXrw.jpeg',\n",
              "  'search_term': 'soft skills',\n",
              "  'url_tag': 'soft-skills',\n",
              "  'tag_name': 'Soft Skills'},\n",
              " {'rtime': '8 min read',\n",
              "  'article_url': 'https://medium.com/hackernoon/the-one-essential-skill-that-will-set-you-apart-from-other-developers-c7eaab3511fa',\n",
              "  'heading': 'The one essential skill that will set you apart from other developers',\n",
              "  'text_preview': 'and how you can hone this skill in five easy ways —  According to the Global Developer Population and Demographic Study conducted by Evans Data Corporation, there are over 22 million developers worldwide and this figure is expected to raise to 26 million in 2022. So. Many. Developers. If you are one of the 20 something millions developers in the world, you…',\n",
              "  'image_url': 'https://miro.medium.com/fit/c/224/224/1*dhwHUlGtrUKitcxbW65FPQ.jpeg',\n",
              "  'search_term': 'soft skills',\n",
              "  'url_tag': 'soft-skills',\n",
              "  'tag_name': 'Soft Skills'},\n",
              " {'rtime': '7 min read',\n",
              "  'article_url': 'https://medium.com/hackernoon/10-soft-skills-every-developer-needs-66f0cdcfd3f7',\n",
              "  'heading': '10 Soft Skills Every Developer Needs',\n",
              "  'text_preview': 'Oxford Dictionary describes soft skills as: Personal attributes that enable someone to interact effectively and harmoniously with other people. Things like empathy, open-mindedness and a willingness to learn are all soft skills that we can utilize whatever industry we’re in. We’ve spoken to the developers at Cronofy to see what…',\n",
              "  'image_url': 'https://miro.medium.com/fit/c/224/224/1*A-1RzpIzQQ00FAeCnszzsQ.jpeg',\n",
              "  'search_term': 'soft skills',\n",
              "  'url_tag': 'soft-skills',\n",
              "  'tag_name': 'Soft Skills'},\n",
              " {'rtime': '10 min read',\n",
              "  'article_url': 'https://medium.com/bridging-the-gap-between-junior-and-senior-engineers-571b2248fbb8',\n",
              "  'heading': 'Bridging the Gap Between Junior and Senior Engineers',\n",
              "  'text_preview': 'Bridging the Gap Between Junior and Senior Engineers I typed up a comment in /r/cscareerquestions recently, where I described a few of the areas I really needed to work on during the early stages of my programming career, and tied that into why I think senior engineers should stop worrying so much about their technical skills becoming obsolete. …',\n",
              "  'image_url': 'https://miro.medium.com/fit/c/224/224/1*PA_JLjBGyPDkoo-aHlwkSw.jpeg',\n",
              "  'search_term': 'soft skills',\n",
              "  'url_tag': 'soft-skills',\n",
              "  'tag_name': 'Soft Skills'},\n",
              " {'rtime': '4 min read',\n",
              "  'article_url': 'https://medium.com/full-stack-tips/6-career-boosters-for-programmers-71035a8acedc',\n",
              "  'heading': '6 Career Boosters for Programmers',\n",
              "  'text_preview': 'I have almost a decade of experience as a software engineer, and during this time I already been in many situations that made me grow as a professional. In this article I want to share some tips, that you can start applying today, in order to grow fast as a…',\n",
              "  'image_url': 'https://miro.medium.com/fit/c/224/224/1*jBgcK5sLhAdi6x85PKl02w.jpeg',\n",
              "  'search_term': 'soft skills',\n",
              "  'url_tag': 'soft-skills',\n",
              "  'tag_name': 'Soft Skills'},\n",
              " {'rtime': '5 min read',\n",
              "  'article_url': 'https://medium.com/hackernoon/5-books-ill-read-to-facilitate-software-engineering-practices-2f42a7df3a0d',\n",
              "  'heading': \"5 books I'll read to facilitate Software Engineering practices\",\n",
              "  'text_preview': 'A plan to facilitate developers on their journey —  The background In my new journey, as Agile Coach (yes, Agile Coach), I have a big challenge for the first quarter: facilitate, mentoring and coach technical people on agile teams. You must be thinking: where the technical lead or something related?\\nSo, we have few tech leads inside the teams and I also…',\n",
              "  'image_url': 'https://miro.medium.com/focal/224/224/49/15/1*DzQE3dRAUajz_i47uKug2Q.png',\n",
              "  'search_term': 'soft skills',\n",
              "  'url_tag': 'soft-skills',\n",
              "  'tag_name': 'Soft Skills'},\n",
              " {'rtime': '7 min read',\n",
              "  'article_url': 'https://medium.com/user-experience-design-1/top-10-soft-skills-thatll-help-you-become-a-ux-leader-50033db75b12',\n",
              "  'heading': 'Top 10 soft skills that a UX leader must possess',\n",
              "  'text_preview': 'What sets a ‘great designer’ apart, from a crowd of ‘good ones’ in the market? —  “How do I explain what I do at a party? The short version is that I say I humanize technology.” — Fred Beecher A UX design project is never black or white — it comes with a lot of ambiguity and challenges at different phases in the design process. …',\n",
              "  'image_url': 'https://miro.medium.com/fit/c/224/224/1*fa7sp0NlE_8RlZR2a7iTHg.jpeg',\n",
              "  'search_term': 'soft skills',\n",
              "  'url_tag': 'soft-skills',\n",
              "  'tag_name': 'Soft Skills'},\n",
              " {'rtime': '5 min read',\n",
              "  'article_url': 'https://medium.com/ux-planet/soft-skills-development-in-ux-design-fd44aaaaf354',\n",
              "  'heading': 'Soft Skills in UX Design Leadership',\n",
              "  'text_preview': 'Technical skill is what makes a designer proficient. Greatness is found in the soft skills. —  A couple of years ago I had a conversation with one of my UX mentors, Diana Furka, about soft skills in design. Now that I’m in a position where I often interview and review UX Design candidates, I think a lot about our talks on the topic. They mattered. …',\n",
              "  'image_url': 'https://miro.medium.com/fit/c/224/224/1*MktFX6-_ANB8zrvPeorsfw.jpeg',\n",
              "  'search_term': 'soft skills',\n",
              "  'url_tag': 'soft-skills',\n",
              "  'tag_name': 'Soft Skills'},\n",
              " {'rtime': '7 min read',\n",
              "  'article_url': 'https://medium.com/better-programming/communication-skills-a-core-part-of-software-engineering-c7d379cebd66',\n",
              "  'heading': 'Communication Skills: A Core Part of Software Engineering',\n",
              "  'text_preview': 'Developing the skills tech companies look for —  Communication skills. They come into play when writing documentation for frameworks and libraries, or when sending emails or slack messages to coworkers. They’re an important factor in how two or more people convey complex ideas and concepts to each other, which is core to collaborating as a software developer. …',\n",
              "  'image_url': 'https://miro.medium.com/fit/c/224/224/1*uvRLCts9a2k_8ptbolMgOg.jpeg',\n",
              "  'search_term': 'soft skills',\n",
              "  'url_tag': 'soft-skills',\n",
              "  'tag_name': 'Soft Skills'}]"
            ]
          },
          "metadata": {},
          "execution_count": 8
        }
      ]
    },
    {
      "cell_type": "markdown",
      "source": [
        "# Putting It All Together"
      ],
      "metadata": {
        "id": "0yD407rlp3eF"
      }
    },
    {
      "cell_type": "code",
      "source": [
        "posts = []\n",
        "lsi = len(SEARCH_TERMS)\n",
        "for SEARCH_INDEX in range(lsi) :\n",
        "  time.sleep(0.5) # Avoid rate limit\n",
        "  doc = scrape_page(TAG_SEARCHER_URL+urlify(SEARCH_TERMS[SEARCH_INDEX]))\n",
        "  TAG_NAMES = []\n",
        "  URLS_TAGS = []\n",
        "\n",
        "  for element in doc.find_all(href=re.compile(\"/tag/.*\\?source=\")) : \n",
        "    href = element.attrs[\"href\"]\n",
        "    res = re.search(f\"/[A-Za-z0-9\\-]+\\?\", href)\n",
        "    if res : \n",
        "      b, e = res.span()\n",
        "      TAG_NAMES.append(element.text)\n",
        "      URLS_TAGS.append(href[b+1:e-1])\n",
        "  \n",
        "  lti = len(TAG_NAMES)\n",
        "  for TAG_INDEX in tqdm(range(lti), desc=f\"Processing Term : {SEARCH_TERMS[SEARCH_INDEX]}\") :\n",
        "    time.sleep(1) # Avoid rate limit\n",
        "    doc2 = scrape_page(GET_TOP_BLOGS_URL(URLS_TAGS[TAG_INDEX]))\n",
        "    for article in doc2.find_all(\"article\") :\n",
        "      data = {}\n",
        "      reading_time_element = article.find(lambda x :  x.has_attr(\"aria-label\") and x.attrs[\"aria-label\"]==\"Post Preview Reading Time\")\n",
        "      if reading_time_element : \n",
        "        data[\"rtime\"] = reading_time_element.text\n",
        "      post_preview_element = article.find(lambda x :  x.has_attr(\"aria-label\") and x.attrs[\"aria-label\"]==\"Post Preview Title\")\n",
        "      if post_preview_element : \n",
        "        if post_preview_element.has_attr(\"href\") :\n",
        "          res = re.search(\"/[A-Za-z0-9\\-\\/]+\\?\", post_preview_element.attrs[\"href\"])\n",
        "          if not res : \n",
        "            continue\n",
        "          b, e = res.span()\n",
        "          data[\"article_url\"] = \"https://medium.com/\"+ post_preview_element.attrs[\"href\"][b+1 : e-1]\n",
        "        heading_element = post_preview_element.find(\"h2\")\n",
        "        if heading_element : \n",
        "          data[\"heading\"] = heading_element.text\n",
        "        para_element = post_preview_element.find(\"p\")\n",
        "        if para_element : \n",
        "          data[\"text_preview\"] = para_element.text\n",
        "      post_image_element = article.find(lambda x :  x.has_attr(\"aria-label\") and x.attrs[\"aria-label\"]==\"Post Preview Image\")\n",
        "      if post_image_element : \n",
        "        image_element = post_image_element.find(\"img\")\n",
        "        if image_element : \n",
        "          data[\"image_url\"] = image_element.attrs[\"src\"]\n",
        "      data[\"search_term\"] = SEARCH_TERMS[SEARCH_INDEX]\n",
        "      data[\"url_tag\"] = URLS_TAGS[TAG_INDEX]\n",
        "      data[\"tag_name\"] = TAG_NAMES[TAG_INDEX]\n",
        "      posts.append(data)"
      ],
      "metadata": {
        "colab": {
          "base_uri": "https://localhost:8080/"
        },
        "id": "PWYLFOPSi8D_",
        "outputId": "db80ff4a-58bb-4be5-bca8-ad62423333e2"
      },
      "execution_count": null,
      "outputs": [
        {
          "output_type": "stream",
          "name": "stderr",
          "text": [
            "Processing Term : soft skills: 100%|██████████| 29/29 [00:50<00:00,  1.73s/it]\n",
            "Processing Term : collaboration: 100%|██████████| 30/30 [00:52<00:00,  1.75s/it]\n",
            "Processing Term : interpersonal communication: 0it [00:00, ?it/s]\n",
            "Processing Term : communication: 100%|██████████| 30/30 [00:58<00:00,  1.93s/it]\n",
            "Processing Term : creativity: 100%|██████████| 30/30 [00:54<00:00,  1.81s/it]\n",
            "Processing Term : relationship curation: 0it [00:00, ?it/s]\n",
            "Processing Term : self awareness: 100%|██████████| 13/13 [00:23<00:00,  1.79s/it]\n",
            "Processing Term : emotional intelligence: 100%|██████████| 5/5 [00:09<00:00,  1.87s/it]\n",
            "Processing Term : leadership: 100%|██████████| 30/30 [01:00<00:00,  2.03s/it]\n",
            "Processing Term : persistence: 100%|██████████| 27/27 [00:48<00:00,  1.81s/it]\n",
            "Processing Term : planning: 100%|██████████| 29/29 [00:53<00:00,  1.84s/it]\n",
            "Processing Term : stress management: 100%|██████████| 14/14 [00:24<00:00,  1.76s/it]\n"
          ]
        }
      ]
    },
    {
      "cell_type": "code",
      "source": [
        "len(posts)"
      ],
      "metadata": {
        "colab": {
          "base_uri": "https://localhost:8080/"
        },
        "id": "uyEF1OyHs4dD",
        "outputId": "71bd5181-6ef5-4507-feb4-2f48e1250d58"
      },
      "execution_count": null,
      "outputs": [
        {
          "output_type": "execute_result",
          "data": {
            "text/plain": [
              "1165"
            ]
          },
          "metadata": {},
          "execution_count": 17
        }
      ]
    },
    {
      "cell_type": "code",
      "source": [
        "df = pd.DataFrame(posts)"
      ],
      "metadata": {
        "id": "R3bTE-xps-fA"
      },
      "execution_count": null,
      "outputs": []
    },
    {
      "cell_type": "code",
      "source": [
        "df.columns = [\"Reading Time\", \"URL\", \"Heading\", \"Content\", \"Image URL\", \"Skill\", \"URL Tag\", \"Tag\"]"
      ],
      "metadata": {
        "id": "UfTBoWczU2Qm"
      },
      "execution_count": null,
      "outputs": []
    },
    {
      "cell_type": "code",
      "source": [
        "df.info()"
      ],
      "metadata": {
        "colab": {
          "base_uri": "https://localhost:8080/"
        },
        "id": "WsVQiUXjtG8f",
        "outputId": "87a8a8eb-a891-4aad-9f4c-1d68ec3b3e1d"
      },
      "execution_count": null,
      "outputs": [
        {
          "output_type": "stream",
          "name": "stdout",
          "text": [
            "<class 'pandas.core.frame.DataFrame'>\n",
            "RangeIndex: 1165 entries, 0 to 1164\n",
            "Data columns (total 8 columns):\n",
            " #   Column        Non-Null Count  Dtype \n",
            "---  ------        --------------  ----- \n",
            " 0   Reading Time  1165 non-null   object\n",
            " 1   URL           1165 non-null   object\n",
            " 2   Heading       1165 non-null   object\n",
            " 3   Content       1163 non-null   object\n",
            " 4   Image URL     1100 non-null   object\n",
            " 5   Skill         1165 non-null   object\n",
            " 6   URL Tag       1165 non-null   object\n",
            " 7   Tag           1165 non-null   object\n",
            "dtypes: object(8)\n",
            "memory usage: 72.9+ KB\n"
          ]
        }
      ]
    },
    {
      "cell_type": "code",
      "source": [
        "df.head()"
      ],
      "metadata": {
        "colab": {
          "base_uri": "https://localhost:8080/",
          "height": 251
        },
        "id": "vlsfPfIYtP0i",
        "outputId": "90c90191-3cf0-4102-e54b-b71d85954276"
      },
      "execution_count": null,
      "outputs": [
        {
          "output_type": "execute_result",
          "data": {
            "text/plain": [
              "  Reading Time                                                URL  \\\n",
              "0  14 min read  https://medium.com/swlh/how-to-lead-when-you-h...   \n",
              "1  10 min read  https://medium.com/newco/hard-and-soft-skills-...   \n",
              "2   8 min read  https://medium.com/hackernoon/the-one-essentia...   \n",
              "3   7 min read  https://medium.com/hackernoon/10-soft-skills-e...   \n",
              "4  10 min read  https://medium.com/bridging-the-gap-between-ju...   \n",
              "\n",
              "                                             Heading  \\\n",
              "0             How To Lead When You Have No Authority   \n",
              "1                       Hard and Soft Skills in Tech   \n",
              "2  The one essential skill that will set you apar...   \n",
              "3               10 Soft Skills Every Developer Needs   \n",
              "4  Bridging the Gap Between Junior and Senior Eng...   \n",
              "\n",
              "                                             Content  \\\n",
              "0  Four Pillars to Increase Your Influence Both a...   \n",
              "1  It’s both more serious and less serious than w...   \n",
              "2  and how you can hone this skill in five easy w...   \n",
              "3  Oxford Dictionary describes soft skills as: Pe...   \n",
              "4  Bridging the Gap Between Junior and Senior Eng...   \n",
              "\n",
              "                                           Image URL        Skill  \\\n",
              "0  https://miro.medium.com/fit/c/224/224/1*4LGVOi...  soft skills   \n",
              "1  https://miro.medium.com/fit/c/224/224/1*KOzo8n...  soft skills   \n",
              "2  https://miro.medium.com/fit/c/224/224/1*dhwHUl...  soft skills   \n",
              "3  https://miro.medium.com/fit/c/224/224/1*A-1Rzp...  soft skills   \n",
              "4  https://miro.medium.com/fit/c/224/224/1*PA_JLj...  soft skills   \n",
              "\n",
              "       URL Tag          Tag  \n",
              "0  soft-skills  Soft Skills  \n",
              "1  soft-skills  Soft Skills  \n",
              "2  soft-skills  Soft Skills  \n",
              "3  soft-skills  Soft Skills  \n",
              "4  soft-skills  Soft Skills  "
            ],
            "text/html": [
              "\n",
              "  <div id=\"df-9be928f2-5808-4426-8f24-d8806a1573e6\">\n",
              "    <div class=\"colab-df-container\">\n",
              "      <div>\n",
              "<style scoped>\n",
              "    .dataframe tbody tr th:only-of-type {\n",
              "        vertical-align: middle;\n",
              "    }\n",
              "\n",
              "    .dataframe tbody tr th {\n",
              "        vertical-align: top;\n",
              "    }\n",
              "\n",
              "    .dataframe thead th {\n",
              "        text-align: right;\n",
              "    }\n",
              "</style>\n",
              "<table border=\"1\" class=\"dataframe\">\n",
              "  <thead>\n",
              "    <tr style=\"text-align: right;\">\n",
              "      <th></th>\n",
              "      <th>Reading Time</th>\n",
              "      <th>URL</th>\n",
              "      <th>Heading</th>\n",
              "      <th>Content</th>\n",
              "      <th>Image URL</th>\n",
              "      <th>Skill</th>\n",
              "      <th>URL Tag</th>\n",
              "      <th>Tag</th>\n",
              "    </tr>\n",
              "  </thead>\n",
              "  <tbody>\n",
              "    <tr>\n",
              "      <th>0</th>\n",
              "      <td>14 min read</td>\n",
              "      <td>https://medium.com/swlh/how-to-lead-when-you-h...</td>\n",
              "      <td>How To Lead When You Have No Authority</td>\n",
              "      <td>Four Pillars to Increase Your Influence Both a...</td>\n",
              "      <td>https://miro.medium.com/fit/c/224/224/1*4LGVOi...</td>\n",
              "      <td>soft skills</td>\n",
              "      <td>soft-skills</td>\n",
              "      <td>Soft Skills</td>\n",
              "    </tr>\n",
              "    <tr>\n",
              "      <th>1</th>\n",
              "      <td>10 min read</td>\n",
              "      <td>https://medium.com/newco/hard-and-soft-skills-...</td>\n",
              "      <td>Hard and Soft Skills in Tech</td>\n",
              "      <td>It’s both more serious and less serious than w...</td>\n",
              "      <td>https://miro.medium.com/fit/c/224/224/1*KOzo8n...</td>\n",
              "      <td>soft skills</td>\n",
              "      <td>soft-skills</td>\n",
              "      <td>Soft Skills</td>\n",
              "    </tr>\n",
              "    <tr>\n",
              "      <th>2</th>\n",
              "      <td>8 min read</td>\n",
              "      <td>https://medium.com/hackernoon/the-one-essentia...</td>\n",
              "      <td>The one essential skill that will set you apar...</td>\n",
              "      <td>and how you can hone this skill in five easy w...</td>\n",
              "      <td>https://miro.medium.com/fit/c/224/224/1*dhwHUl...</td>\n",
              "      <td>soft skills</td>\n",
              "      <td>soft-skills</td>\n",
              "      <td>Soft Skills</td>\n",
              "    </tr>\n",
              "    <tr>\n",
              "      <th>3</th>\n",
              "      <td>7 min read</td>\n",
              "      <td>https://medium.com/hackernoon/10-soft-skills-e...</td>\n",
              "      <td>10 Soft Skills Every Developer Needs</td>\n",
              "      <td>Oxford Dictionary describes soft skills as: Pe...</td>\n",
              "      <td>https://miro.medium.com/fit/c/224/224/1*A-1Rzp...</td>\n",
              "      <td>soft skills</td>\n",
              "      <td>soft-skills</td>\n",
              "      <td>Soft Skills</td>\n",
              "    </tr>\n",
              "    <tr>\n",
              "      <th>4</th>\n",
              "      <td>10 min read</td>\n",
              "      <td>https://medium.com/bridging-the-gap-between-ju...</td>\n",
              "      <td>Bridging the Gap Between Junior and Senior Eng...</td>\n",
              "      <td>Bridging the Gap Between Junior and Senior Eng...</td>\n",
              "      <td>https://miro.medium.com/fit/c/224/224/1*PA_JLj...</td>\n",
              "      <td>soft skills</td>\n",
              "      <td>soft-skills</td>\n",
              "      <td>Soft Skills</td>\n",
              "    </tr>\n",
              "  </tbody>\n",
              "</table>\n",
              "</div>\n",
              "      <button class=\"colab-df-convert\" onclick=\"convertToInteractive('df-9be928f2-5808-4426-8f24-d8806a1573e6')\"\n",
              "              title=\"Convert this dataframe to an interactive table.\"\n",
              "              style=\"display:none;\">\n",
              "        \n",
              "  <svg xmlns=\"http://www.w3.org/2000/svg\" height=\"24px\"viewBox=\"0 0 24 24\"\n",
              "       width=\"24px\">\n",
              "    <path d=\"M0 0h24v24H0V0z\" fill=\"none\"/>\n",
              "    <path d=\"M18.56 5.44l.94 2.06.94-2.06 2.06-.94-2.06-.94-.94-2.06-.94 2.06-2.06.94zm-11 1L8.5 8.5l.94-2.06 2.06-.94-2.06-.94L8.5 2.5l-.94 2.06-2.06.94zm10 10l.94 2.06.94-2.06 2.06-.94-2.06-.94-.94-2.06-.94 2.06-2.06.94z\"/><path d=\"M17.41 7.96l-1.37-1.37c-.4-.4-.92-.59-1.43-.59-.52 0-1.04.2-1.43.59L10.3 9.45l-7.72 7.72c-.78.78-.78 2.05 0 2.83L4 21.41c.39.39.9.59 1.41.59.51 0 1.02-.2 1.41-.59l7.78-7.78 2.81-2.81c.8-.78.8-2.07 0-2.86zM5.41 20L4 18.59l7.72-7.72 1.47 1.35L5.41 20z\"/>\n",
              "  </svg>\n",
              "      </button>\n",
              "      \n",
              "  <style>\n",
              "    .colab-df-container {\n",
              "      display:flex;\n",
              "      flex-wrap:wrap;\n",
              "      gap: 12px;\n",
              "    }\n",
              "\n",
              "    .colab-df-convert {\n",
              "      background-color: #E8F0FE;\n",
              "      border: none;\n",
              "      border-radius: 50%;\n",
              "      cursor: pointer;\n",
              "      display: none;\n",
              "      fill: #1967D2;\n",
              "      height: 32px;\n",
              "      padding: 0 0 0 0;\n",
              "      width: 32px;\n",
              "    }\n",
              "\n",
              "    .colab-df-convert:hover {\n",
              "      background-color: #E2EBFA;\n",
              "      box-shadow: 0px 1px 2px rgba(60, 64, 67, 0.3), 0px 1px 3px 1px rgba(60, 64, 67, 0.15);\n",
              "      fill: #174EA6;\n",
              "    }\n",
              "\n",
              "    [theme=dark] .colab-df-convert {\n",
              "      background-color: #3B4455;\n",
              "      fill: #D2E3FC;\n",
              "    }\n",
              "\n",
              "    [theme=dark] .colab-df-convert:hover {\n",
              "      background-color: #434B5C;\n",
              "      box-shadow: 0px 1px 3px 1px rgba(0, 0, 0, 0.15);\n",
              "      filter: drop-shadow(0px 1px 2px rgba(0, 0, 0, 0.3));\n",
              "      fill: #FFFFFF;\n",
              "    }\n",
              "  </style>\n",
              "\n",
              "      <script>\n",
              "        const buttonEl =\n",
              "          document.querySelector('#df-9be928f2-5808-4426-8f24-d8806a1573e6 button.colab-df-convert');\n",
              "        buttonEl.style.display =\n",
              "          google.colab.kernel.accessAllowed ? 'block' : 'none';\n",
              "\n",
              "        async function convertToInteractive(key) {\n",
              "          const element = document.querySelector('#df-9be928f2-5808-4426-8f24-d8806a1573e6');\n",
              "          const dataTable =\n",
              "            await google.colab.kernel.invokeFunction('convertToInteractive',\n",
              "                                                     [key], {});\n",
              "          if (!dataTable) return;\n",
              "\n",
              "          const docLinkHtml = 'Like what you see? Visit the ' +\n",
              "            '<a target=\"_blank\" href=https://colab.research.google.com/notebooks/data_table.ipynb>data table notebook</a>'\n",
              "            + ' to learn more about interactive tables.';\n",
              "          element.innerHTML = '';\n",
              "          dataTable['output_type'] = 'display_data';\n",
              "          await google.colab.output.renderOutput(dataTable, element);\n",
              "          const docLink = document.createElement('div');\n",
              "          docLink.innerHTML = docLinkHtml;\n",
              "          element.appendChild(docLink);\n",
              "        }\n",
              "      </script>\n",
              "    </div>\n",
              "  </div>\n",
              "  "
            ]
          },
          "metadata": {},
          "execution_count": 22
        }
      ]
    },
    {
      "cell_type": "code",
      "source": [
        "df[\"Skill\"].value_counts()"
      ],
      "metadata": {
        "colab": {
          "base_uri": "https://localhost:8080/"
        },
        "id": "rCJCOSl6tQhX",
        "outputId": "adc8dff7-d32b-473f-bf5e-eb35165a060c"
      },
      "execution_count": null,
      "outputs": [
        {
          "output_type": "execute_result",
          "data": {
            "text/plain": [
              "leadership                262\n",
              "communication             218\n",
              "creativity                155\n",
              "planning                  133\n",
              "persistence               111\n",
              "collaboration              89\n",
              "soft skills                69\n",
              "self awareness             62\n",
              "stress management          42\n",
              "emotional intelligence     24\n",
              "Name: Skill, dtype: int64"
            ]
          },
          "metadata": {},
          "execution_count": 23
        }
      ]
    },
    {
      "cell_type": "code",
      "source": [
        "df.to_csv(\"Medium Posts v1.csv\", index=False)"
      ],
      "metadata": {
        "id": "EltD-rpTuVed"
      },
      "execution_count": null,
      "outputs": []
    }
  ]
}