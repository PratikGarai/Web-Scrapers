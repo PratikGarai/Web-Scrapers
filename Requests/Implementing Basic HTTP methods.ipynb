{
 "cells": [
  {
   "cell_type": "code",
   "execution_count": 1,
   "metadata": {},
   "outputs": [],
   "source": [
    "import requests"
   ]
  },
  {
   "cell_type": "markdown",
   "metadata": {},
   "source": [
    "Run ```python -m http.server``` in yout terminal before continuing"
   ]
  },
  {
   "cell_type": "code",
   "execution_count": 2,
   "metadata": {},
   "outputs": [],
   "source": [
    "URL = \"http://127.0.0.1:8000\""
   ]
  },
  {
   "cell_type": "markdown",
   "metadata": {},
   "source": [
    "# GET"
   ]
  },
  {
   "cell_type": "code",
   "execution_count": 3,
   "metadata": {},
   "outputs": [],
   "source": [
    "queries = {\"name\" : \"user\", \"school\" : \"dps\"}\n",
    "headers = {\"user-agent\" : \"\"}\n",
    "\n",
    "r = requests.get(URL, params=queries, headers=headers)"
   ]
  },
  {
   "cell_type": "code",
   "execution_count": 4,
   "metadata": {},
   "outputs": [
    {
     "name": "stdout",
     "output_type": "stream",
     "text": [
      "http://127.0.0.1:8000/?name=user&school=dps\n"
     ]
    }
   ],
   "source": [
    "print(r.url)"
   ]
  },
  {
   "cell_type": "markdown",
   "metadata": {},
   "source": [
    "## POST"
   ]
  },
  {
   "cell_type": "code",
   "execution_count": 5,
   "metadata": {},
   "outputs": [],
   "source": [
    "pageUrl=\"http://httpbin.org/forms/post\"\n",
    "postUrl=\"http://httpbin.org/post\"\n",
    "\n",
    "params = {\n",
    "    'custname':'Mr. ABC',\n",
    "    'custtel':'',\n",
    "    'custemail':'abc@somedomain.com',\n",
    "    'size':'small',\n",
    "    'topping':['cheese','mushroom'],\n",
    "    'delivery':'13:00',\n",
    "    'comments':'None'}\n",
    "\n",
    "headers={ \n",
    "    'Accept':'text/html,application/xhtml+xml,application/xml;q=0.9,image/webp,image/apng,*/*;q=0.8',\n",
    "    'Content-Type':'application/x-www-form-urlencoded',\n",
    "    'Referer':pageUrl\n",
    "}\n",
    "\n",
    "response = requests.post(postUrl,data=params,headers=headers).json()"
   ]
  },
  {
   "cell_type": "code",
   "execution_count": 6,
   "metadata": {},
   "outputs": [
    {
     "name": "stdout",
     "output_type": "stream",
     "text": [
      "<class 'dict'>\n"
     ]
    }
   ],
   "source": [
    "print(type(response))"
   ]
  },
  {
   "cell_type": "code",
   "execution_count": 7,
   "metadata": {},
   "outputs": [
    {
     "name": "stdout",
     "output_type": "stream",
     "text": [
      "args : {}\n",
      "data : \n",
      "files : {}\n",
      "form : {'comments': 'None', 'custemail': 'abc@somedomain.com', 'custname': 'Mr. ABC', 'custtel': '', 'delivery': '13:00', 'size': 'small', 'topping': ['cheese', 'mushroom']}\n",
      "headers : {'Accept': 'text/html,application/xhtml+xml,application/xml;q=0.9,image/webp,image/apng,*/*;q=0.8', 'Accept-Encoding': 'gzip, deflate', 'Content-Length': '130', 'Content-Type': 'application/x-www-form-urlencoded', 'Host': 'httpbin.org', 'Referer': 'http://httpbin.org/forms/post', 'User-Agent': 'python-requests/2.24.0', 'X-Amzn-Trace-Id': 'Root=1-61c116d2-5d8595ca27ac912e5257a0cb'}\n",
      "json : None\n",
      "origin : 42.110.163.12\n",
      "url : http://httpbin.org/post\n"
     ]
    }
   ],
   "source": [
    "for i,j in response.items():\n",
    "    print(i, \":\", j)"
   ]
  }
 ],
 "metadata": {
  "kernelspec": {
   "display_name": "Python 3",
   "language": "python",
   "name": "python3"
  },
  "language_info": {
   "codemirror_mode": {
    "name": "ipython",
    "version": 3
   },
   "file_extension": ".py",
   "mimetype": "text/x-python",
   "name": "python",
   "nbconvert_exporter": "python",
   "pygments_lexer": "ipython3",
   "version": "3.8.5"
  }
 },
 "nbformat": 4,
 "nbformat_minor": 4
}
