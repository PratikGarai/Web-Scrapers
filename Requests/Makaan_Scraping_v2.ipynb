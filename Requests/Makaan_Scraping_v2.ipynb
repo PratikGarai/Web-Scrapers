{
 "cells": [
  {
   "cell_type": "markdown",
   "metadata": {
    "id": "rGc8lkdHOkKg"
   },
   "source": [
    "# Makaan.com Scraping\n",
    "\n",
    "By : Pratik Garai<br />\n",
    "Email : pratikgarai0208@gmail.com"
   ]
  },
  {
   "cell_type": "markdown",
   "metadata": {
    "id": "Lkx6gHUFOhOy"
   },
   "source": [
    "## Imports"
   ]
  },
  {
   "cell_type": "code",
   "execution_count": 1,
   "metadata": {
    "id": "kLHxZFFL92bv"
   },
   "outputs": [],
   "source": [
    "from bs4 import BeautifulSoup\n",
    "import requests\n",
    "import time\n",
    "from tqdm import tqdm\n",
    "import time\n",
    "import random\n",
    "import re\n",
    "import sqlite3\n",
    "from sqlite3 import Error"
   ]
  },
  {
   "cell_type": "code",
   "execution_count": 2,
   "metadata": {
    "id": "DGplrlQiJGTl"
   },
   "outputs": [],
   "source": [
    "URL = \"https://www.makaan.com/price-trends\"\n",
    "CITIES = [\"Chennai\", \"Mumbai\", \"Pune\", \"Puri\", \"Bangalore\"]\n",
    "TYPES = [\"apartment\", \"villa\", \"plot\", \"builderfloor\"] # Data type trend"
   ]
  },
  {
   "cell_type": "markdown",
   "metadata": {
    "id": "lrsbkAPQO3mu"
   },
   "source": [
    "## Core Methods"
   ]
  },
  {
   "cell_type": "code",
   "execution_count": 3,
   "metadata": {
    "id": "geSOjhSrJM8U"
   },
   "outputs": [],
   "source": [
    "def scrape_page(url):\n",
    "  '''\n",
    "    Input a url and convert it to a BeautifulSoup object\n",
    "  '''\n",
    "  try:\n",
    "    page = requests.get(url)\n",
    "    html = BeautifulSoup(page.content, \"html.parser\")\n",
    "    return (page.status_code, html)\n",
    "  except Exception as e:\n",
    "    raise Exception(f\"Error in scraping page {url} : {e}\")\n",
    "\n",
    "def scrape_main_page(url) : \n",
    "  '''\n",
    "    Scrape the entrypoint page table and create a list of dictionaries from it.\n",
    "    Each dictionary contains : \n",
    "      * city_name : Name of the city\n",
    "      * city_url : URL leading to localities in city\n",
    "      * price_range_per_sq_ft : Price Range per sq. ft\n",
    "      * avg_price_per_sq_ft : Average Price per sq. ft\n",
    "      * price_rise : The price rise\n",
    "      * type : The data trend type\n",
    "    \n",
    "    Inputs : \n",
    "      * url : The url of the main page\n",
    "  '''\n",
    "  status, page = scrape_page(URL)\n",
    "  assert status == 200, f\"Status {status}\"\n",
    "  tables = page.findAll(\"table\")\n",
    "  data = []\n",
    "\n",
    "  # go through all tables on page\n",
    "  # skipping the first table because it belongs to \"Projects\" section\n",
    "  for table in tables[1:] : \n",
    "    table_rows = table.select(\"tbody tr\")\n",
    "\n",
    "    # go through in each row in table body\n",
    "    for row in table_rows : \n",
    "      col = row.findAll(\"td\")\n",
    "      data.append({\n",
    "          \"city_name\" : col[0].text,\n",
    "          \"city_url\" : col[0].find(\"a\").attrs[\"href\"],\n",
    "          \"price_range_per_sq_ft\" : col[1].text,\n",
    "          \"avg_price_per_sq_ft\" : col[2].text,\n",
    "          \"price_rise\" : col[3].text,\n",
    "          \"type\" : table.attrs[\"data-trend-type\"]\n",
    "      })\n",
    "\n",
    "  # return data\n",
    "  return data\n",
    "\n",
    "def scrape_cities(cities, city_urls) :\n",
    "  '''\n",
    "    Function to accept a list of cities and return their data in the form\n",
    "    of a list of dictionaries\n",
    "\n",
    "    The dataset has the following fields : \n",
    "      * city_name : Name of the city\n",
    "      * city_url : URL leading to localities in city\n",
    "      * locality_name : Name of the locality\n",
    "      * price_range_per_sq_ft : Price Range per sq. ft\n",
    "      * avg_price_per_sq_ft : Average Price per sq. ft\n",
    "      * price_rise : The price rise\n",
    "      * type : The data trend type\n",
    "      * page : The page where the locality was present\n",
    "    \n",
    "    Inputs  : \n",
    "      * cities : A list/iterable of city names\n",
    "      * city_urls : A map of city to city urls\n",
    "  '''\n",
    "  data = []\n",
    "\n",
    "  for city in cities : \n",
    "\n",
    "    # extract city url\n",
    "    assert city in city_urls, f\"{city}'s url not found\" \n",
    "    url = city_urls[city]\n",
    "    status, page = scrape_page(url)\n",
    "    assert status == 200, f\"Status {status}\"\n",
    "\n",
    "    # check number of pages\n",
    "    pagination = page.select(\".pagination li\")\n",
    "    n_pages = 1\n",
    "    if len(pagination) > 0 : \n",
    "      n_pages = int(pagination[-2].text)\n",
    "    print(f\"{n_pages} found for city : {city}\")\n",
    "\n",
    "    bar = tqdm(range(n_pages))\n",
    "    for i in bar: \n",
    "      # scrape single locality page\n",
    "      status, page = scrape_page(f\"{url}?page={i+1}\")\n",
    "      assert status == 200, f\"Status {status}\"\n",
    "      tables = page.findAll(\"table\")\n",
    "      bar.set_description(f\"{i+1}/{n_pages} for city {city}\")\n",
    "\n",
    "      # go through all 4 data trend tables\n",
    "      # skipping the last table because it belongs to \"Projects\" section\n",
    "      for table in tables[:-1] : \n",
    "        table_rows = table.select(\"tbody tr\")\n",
    "        for row in table_rows : \n",
    "          col = row.findAll(\"td\")\n",
    "          data.append({\n",
    "              \"city_name\" : city,\n",
    "              \"city_url\" : url,\n",
    "              \"locality_name\" : col[0].text,\n",
    "              \"price_range_per_sq_ft\" : col[1].text,\n",
    "              \"avg_price_per_sq_ft\" : col[2].text,\n",
    "              \"price_rise\" : col[3].text,\n",
    "              \"type\" : table.attrs[\"data-trend-type\"],\n",
    "              \"page\" : i+1\n",
    "          })\n",
    "      time.sleep(random.random()) # sleep random amount to avoid overloading server\n",
    "\n",
    "  # return data\n",
    "  return data\n",
    "\n",
    "def get_row_list(row) :\n",
    "  '''\n",
    "    Takes in a dictionary and converts it to a row of csv\n",
    "  '''\n",
    "  r = []\n",
    "  for i in row.copy().values() :\n",
    "    if i == None : # handle NA values\n",
    "      r.append(\"\")\n",
    "    else : \n",
    "      i = str(i)\n",
    "      if \",\" in i : # handle commas\n",
    "        r.append(f'\"{str(i).strip()}\"')\n",
    "      else : \n",
    "        r.append(str(i).strip())\n",
    "  return r\n",
    "\n",
    "def save_to_csv(data, fname) : \n",
    "  '''\n",
    "    Convert a list of dicts into a csv\n",
    "  '''\n",
    "  with open(fname, \"w\") as f : \n",
    "    f.write(\",\".join(list(data[0].keys())))\n",
    "    f.write(\"\\n\")\n",
    "    for row in data : \n",
    "      d = get_row_list(row)\n",
    "      f.write(\",\".join(d))\n",
    "      f.write(\"\\n\")"
   ]
  },
  {
   "cell_type": "markdown",
   "metadata": {
    "id": "W1ap-hK8O6AS"
   },
   "source": [
    "## Scrape Main Page"
   ]
  },
  {
   "cell_type": "code",
   "execution_count": 4,
   "metadata": {
    "id": "Q740ShzkPySk"
   },
   "outputs": [],
   "source": [
    "city_prices = scrape_main_page(URL)"
   ]
  },
  {
   "cell_type": "code",
   "execution_count": 5,
   "metadata": {
    "colab": {
     "base_uri": "https://localhost:8080/"
    },
    "id": "BcCjw2WbkoXI",
    "outputId": "fa2d1c59-af9f-4eb9-ce7b-0ebe690442ca"
   },
   "outputs": [
    {
     "data": {
      "text/plain": [
       "{'city_name': 'Ahmedabad',\n",
       " 'city_url': 'https://www.makaan.com/price-trends/property-rates-for-buy-in-ahmedabad',\n",
       " 'price_range_per_sq_ft': ' 611 - 1,71,969 / sqft',\n",
       " 'avg_price_per_sq_ft': ' 37,742.18 / sqft',\n",
       " 'price_rise': '84.3%',\n",
       " 'type': 'apartment'}"
      ]
     },
     "execution_count": 5,
     "metadata": {},
     "output_type": "execute_result"
    }
   ],
   "source": [
    "city_prices[0]"
   ]
  },
  {
   "cell_type": "markdown",
   "metadata": {
    "id": "BPNUAeX8O8-N"
   },
   "source": [
    "## Scrape Localities"
   ]
  },
  {
   "cell_type": "code",
   "execution_count": 6,
   "metadata": {
    "colab": {
     "base_uri": "https://localhost:8080/"
    },
    "id": "ckK2vk4RItwy",
    "outputId": "8d963224-b4a5-45fd-dda6-d9ffa4e2eaa6"
   },
   "outputs": [
    {
     "name": "stdout",
     "output_type": "stream",
     "text": [
      "Chennai https://www.makaan.com/price-trends/property-rates-for-buy-in-chennai\n",
      "Mumbai https://www.makaan.com/price-trends/property-rates-for-buy-in-mumbai\n",
      "Pune https://www.makaan.com/price-trends/property-rates-for-buy-in-pune\n",
      "Puri https://www.makaan.com/price-trends/property-rates-for-buy-in-puri\n",
      "Bangalore https://www.makaan.com/price-trends/property-rates-for-buy-in-bangalore\n"
     ]
    }
   ],
   "source": [
    "CITY_URLS = {}\n",
    "for city_price in city_prices : \n",
    "  city = city_price[\"city_name\"]\n",
    "  if city in CITIES : \n",
    "    if city not in CITY_URLS:\n",
    "      CITY_URLS[city] = city_price[\"city_url\"]\n",
    "\n",
    "for city in CITIES : \n",
    "  print(city, CITY_URLS[city])"
   ]
  },
  {
   "cell_type": "code",
   "execution_count": 7,
   "metadata": {
    "colab": {
     "base_uri": "https://localhost:8080/"
    },
    "id": "R_3l3mJRNi_p",
    "outputId": "e875dfc6-f426-49ed-935a-84c92d91c856"
   },
   "outputs": [
    {
     "name": "stdout",
     "output_type": "stream",
     "text": [
      "91 found for city : Chennai\n"
     ]
    },
    {
     "name": "stderr",
     "output_type": "stream",
     "text": [
      "91/91 for city Chennai: 100%|██████████| 91/91 [03:17<00:00,  2.17s/it]\n"
     ]
    },
    {
     "name": "stdout",
     "output_type": "stream",
     "text": [
      "102 found for city : Mumbai\n"
     ]
    },
    {
     "name": "stderr",
     "output_type": "stream",
     "text": [
      "102/102 for city Mumbai: 100%|██████████| 102/102 [03:41<00:00,  2.17s/it]\n"
     ]
    },
    {
     "name": "stdout",
     "output_type": "stream",
     "text": [
      "55 found for city : Pune\n"
     ]
    },
    {
     "name": "stderr",
     "output_type": "stream",
     "text": [
      "55/55 for city Pune: 100%|██████████| 55/55 [01:57<00:00,  2.13s/it]\n"
     ]
    },
    {
     "name": "stdout",
     "output_type": "stream",
     "text": [
      "1 found for city : Puri\n"
     ]
    },
    {
     "name": "stderr",
     "output_type": "stream",
     "text": [
      "1/1 for city Puri: 100%|██████████| 1/1 [00:01<00:00,  1.73s/it]\n"
     ]
    },
    {
     "name": "stdout",
     "output_type": "stream",
     "text": [
      "86 found for city : Bangalore\n"
     ]
    },
    {
     "name": "stderr",
     "output_type": "stream",
     "text": [
      "86/86 for city Bangalore: 100%|██████████| 86/86 [03:08<00:00,  2.19s/it]\n"
     ]
    }
   ],
   "source": [
    "locality_prices = scrape_cities(CITIES, CITY_URLS)"
   ]
  },
  {
   "cell_type": "code",
   "execution_count": 8,
   "metadata": {
    "colab": {
     "base_uri": "https://localhost:8080/"
    },
    "id": "uq2cLMO9QBoS",
    "outputId": "23341b62-ffd6-41ea-eda6-479c1a2b5a9f"
   },
   "outputs": [
    {
     "data": {
      "text/plain": [
       "{'city_name': 'Chennai',\n",
       " 'city_url': 'https://www.makaan.com/price-trends/property-rates-for-buy-in-chennai',\n",
       " 'locality_name': 'Avadi',\n",
       " 'price_range_per_sq_ft': ' 2,139 - 6,309 / sqft',\n",
       " 'avg_price_per_sq_ft': ' 5,241.2 / sqft',\n",
       " 'price_rise': '-5%',\n",
       " 'type': 'apartment',\n",
       " 'page': 1}"
      ]
     },
     "execution_count": 8,
     "metadata": {},
     "output_type": "execute_result"
    }
   ],
   "source": [
    "locality_prices[0]"
   ]
  },
  {
   "cell_type": "markdown",
   "metadata": {
    "id": "zlYufbJFPAdA"
   },
   "source": [
    "## Cleaning the data\n",
    "\n",
    "- Convert ``price_range_per_sq_ft`` to 2 columns, ``price_range_per_sq_ft_low`` and ``price_range_per_sq_ft_high``\n",
    "- Convert ``avg_price_per_sq_ft`` to ``float`` from ``string``\n",
    "- Convert ``price_rise`` to ``float`` from ``string``"
   ]
  },
  {
   "cell_type": "code",
   "execution_count": 9,
   "metadata": {
    "colab": {
     "base_uri": "https://localhost:8080/"
    },
    "id": "suYES2gdEozp",
    "outputId": "fd97a014-0595-4b23-d064-2079fbd719f9"
   },
   "outputs": [
    {
     "name": "stdout",
     "output_type": "stream",
     "text": [
      "All Passed\n"
     ]
    }
   ],
   "source": [
    "def clean_price_rise(s) : \n",
    "  s = s.strip()\n",
    "  s = re.findall(r\"[-+]?(?:\\d*\\.*\\d+)\", s)\n",
    "  if len(s) == 0 : \n",
    "    return None\n",
    "  else : \n",
    "    return float(s[0])\n",
    "\n",
    "assert clean_price_rise(\"54%\") == 54, \"Wrong cleaning\"\n",
    "assert clean_price_rise(\"43.5%\") == 43.5, \"Wrong cleaning\"\n",
    "assert clean_price_rise(\"-0.9%\") == -0.9, \"Wrong cleaning\"\n",
    "assert clean_price_rise(\"-\") == None, \"Wrong cleaning\"\n",
    "print(\"All Passed\")"
   ]
  },
  {
   "cell_type": "code",
   "execution_count": 10,
   "metadata": {
    "colab": {
     "base_uri": "https://localhost:8080/"
    },
    "id": "mXaRm-CEKWFx",
    "outputId": "bf49727c-af50-47aa-b8f4-beb070464083"
   },
   "outputs": [
    {
     "name": "stdout",
     "output_type": "stream",
     "text": [
      "All Passed\n"
     ]
    }
   ],
   "source": [
    "def clean_average(s) : \n",
    "  s = s.strip()\n",
    "  s = re.sub(\",\", \"\", s)\n",
    "  s = re.findall(r\"(?:\\d*\\.*\\d+)\", s)\n",
    "  if len(s) == 0 : \n",
    "    return None\n",
    "  else : \n",
    "    return float(s[0])\n",
    "\n",
    "assert clean_average(\"5,241.2 / sqft\") == 5241.2, \"Wrong cleaning\"\n",
    "assert clean_average(\"15,241,123.2 / sqft\") == 15241123.2, \"Wrong cleaning\"\n",
    "assert clean_average(\"5248 / sqft\") == 5248, \"Wrong cleaning\"\n",
    "assert clean_average(\"-\") == None, \"Wrong cleaning\"\n",
    "print(\"All Passed\")"
   ]
  },
  {
   "cell_type": "code",
   "execution_count": 11,
   "metadata": {
    "colab": {
     "base_uri": "https://localhost:8080/"
    },
    "id": "KWTR4O1ALO5f",
    "outputId": "ec5275ee-de03-4530-b317-894e77e43151"
   },
   "outputs": [
    {
     "name": "stdout",
     "output_type": "stream",
     "text": [
      "All Passed\n"
     ]
    }
   ],
   "source": [
    "def clean_range(s) : \n",
    "  s = s.strip()\n",
    "  s = re.sub(\",\", \"\", s)\n",
    "  s = re.findall(r\"(?:\\d*\\.*\\d+)\", s)\n",
    "  if len(s) == 0 : \n",
    "    return None, None\n",
    "  elif len(s) == 1 : \n",
    "    return float(s[0]), float(s[0])\n",
    "  else : \n",
    "    return float(s[0]), float(s[1])\n",
    "\n",
    "assert clean_range(\"2,139 - 6,309 / sqft\") == (2139, 6309), \"Wrong cleaning\"\n",
    "assert clean_range(\"21.23 - 6,309 / sqft\") == (21.23, 6309), \"Wrong cleaning\"\n",
    "assert clean_range(\"58 / sqft\") == (58, 58), \"Wrong cleaning\"\n",
    "assert clean_range(\"-\") == (None, None), \"Wrong cleaning\"\n",
    "print(\"All Passed\")"
   ]
  },
  {
   "cell_type": "code",
   "execution_count": 12,
   "metadata": {
    "id": "zcKzE8P4M80V"
   },
   "outputs": [],
   "source": [
    "def process_data(data) :\n",
    "  '''\n",
    "    Takes in a raw dataframe and preprocesses it\n",
    "  '''\n",
    "  dt = []\n",
    "  for i in tqdm(data) :\n",
    "    row = i.copy()\n",
    "    low, high = clean_range(row[\"price_range_per_sq_ft\"])\n",
    "    row[\"price_range_per_sq_ft_low\"] = low\n",
    "    row[\"price_range_per_sq_ft_high\"] = high\n",
    "    del row[\"price_range_per_sq_ft\"]\n",
    "    row[\"avg_price_per_sq_ft\"] = clean_average(row[\"avg_price_per_sq_ft\"])\n",
    "    row[\"price_rise\"] = clean_price_rise(row[\"price_rise\"])\n",
    "    dt.append(row)\n",
    "  return dt"
   ]
  },
  {
   "cell_type": "markdown",
   "metadata": {
    "id": "_Igs9GPTPtFC"
   },
   "source": [
    "### Cleaning cities data"
   ]
  },
  {
   "cell_type": "code",
   "execution_count": 13,
   "metadata": {
    "colab": {
     "base_uri": "https://localhost:8080/"
    },
    "id": "67dwDZCHMpKP",
    "outputId": "27a0afa0-fab9-4f64-976e-20c8cad5b291"
   },
   "outputs": [
    {
     "data": {
      "text/plain": [
       "{'city_name': 'Ahmedabad',\n",
       " 'city_url': 'https://www.makaan.com/price-trends/property-rates-for-buy-in-ahmedabad',\n",
       " 'price_range_per_sq_ft': ' 611 - 1,71,969 / sqft',\n",
       " 'avg_price_per_sq_ft': ' 37,742.18 / sqft',\n",
       " 'price_rise': '84.3%',\n",
       " 'type': 'apartment'}"
      ]
     },
     "execution_count": 13,
     "metadata": {},
     "output_type": "execute_result"
    }
   ],
   "source": [
    "city_prices[0]"
   ]
  },
  {
   "cell_type": "code",
   "execution_count": 14,
   "metadata": {
    "colab": {
     "base_uri": "https://localhost:8080/"
    },
    "id": "IdOZS3vFM24C",
    "outputId": "c8cd2be6-c8b3-407d-ce5e-97f66eeb3676"
   },
   "outputs": [
    {
     "name": "stderr",
     "output_type": "stream",
     "text": [
      "100%|██████████| 1808/1808 [00:00<00:00, 79964.80it/s]\n"
     ]
    },
    {
     "data": {
      "text/plain": [
       "{'city_name': 'Ahmedabad',\n",
       " 'city_url': 'https://www.makaan.com/price-trends/property-rates-for-buy-in-ahmedabad',\n",
       " 'avg_price_per_sq_ft': 37742.18,\n",
       " 'price_rise': 84.3,\n",
       " 'type': 'apartment',\n",
       " 'price_range_per_sq_ft_low': 611.0,\n",
       " 'price_range_per_sq_ft_high': 171969.0}"
      ]
     },
     "execution_count": 14,
     "metadata": {},
     "output_type": "execute_result"
    }
   ],
   "source": [
    "city_prices2 = process_data(city_prices)\n",
    "city_prices2[0]"
   ]
  },
  {
   "cell_type": "markdown",
   "metadata": {
    "id": "Vd1DOIbYPw6w"
   },
   "source": [
    "### Cleaning localities data"
   ]
  },
  {
   "cell_type": "code",
   "execution_count": 15,
   "metadata": {
    "colab": {
     "base_uri": "https://localhost:8080/"
    },
    "id": "LEohwd5iOepq",
    "outputId": "a875471d-bf38-475c-f7ec-a80a6d108733"
   },
   "outputs": [
    {
     "data": {
      "text/plain": [
       "{'city_name': 'Chennai',\n",
       " 'city_url': 'https://www.makaan.com/price-trends/property-rates-for-buy-in-chennai',\n",
       " 'locality_name': 'Avadi',\n",
       " 'price_range_per_sq_ft': ' 2,139 - 6,309 / sqft',\n",
       " 'avg_price_per_sq_ft': ' 5,241.2 / sqft',\n",
       " 'price_rise': '-5%',\n",
       " 'type': 'apartment',\n",
       " 'page': 1}"
      ]
     },
     "execution_count": 15,
     "metadata": {},
     "output_type": "execute_result"
    }
   ],
   "source": [
    "locality_prices[0]"
   ]
  },
  {
   "cell_type": "code",
   "execution_count": 16,
   "metadata": {
    "colab": {
     "base_uri": "https://localhost:8080/"
    },
    "id": "y__1ssU-PrG2",
    "outputId": "a9a75858-3cb8-450d-f68d-7f239d8cca7b"
   },
   "outputs": [
    {
     "name": "stderr",
     "output_type": "stream",
     "text": [
      "100%|██████████| 80128/80128 [00:00<00:00, 116947.92it/s]\n"
     ]
    },
    {
     "data": {
      "text/plain": [
       "{'city_name': 'Chennai',\n",
       " 'city_url': 'https://www.makaan.com/price-trends/property-rates-for-buy-in-chennai',\n",
       " 'locality_name': 'Avadi',\n",
       " 'avg_price_per_sq_ft': 5241.2,\n",
       " 'price_rise': -5.0,\n",
       " 'type': 'apartment',\n",
       " 'page': 1,\n",
       " 'price_range_per_sq_ft_low': 2139.0,\n",
       " 'price_range_per_sq_ft_high': 6309.0}"
      ]
     },
     "execution_count": 16,
     "metadata": {},
     "output_type": "execute_result"
    }
   ],
   "source": [
    "locality_prices2 = process_data(locality_prices)\n",
    "locality_prices2[0]"
   ]
  },
  {
   "cell_type": "markdown",
   "metadata": {
    "id": "64NPJjcJQCQX"
   },
   "source": [
    "### Saving the cleaned data"
   ]
  },
  {
   "cell_type": "code",
   "execution_count": 17,
   "metadata": {
    "id": "2sQEdBfkQApq"
   },
   "outputs": [],
   "source": [
    "save_to_csv(city_prices2, \"makaan_city_prices.csv\")"
   ]
  },
  {
   "cell_type": "code",
   "execution_count": 18,
   "metadata": {
    "id": "E5nLnFkrQIGU"
   },
   "outputs": [],
   "source": [
    "save_to_csv(locality_prices2, \"makaan_locality_prices.csv\")"
   ]
  },
  {
   "cell_type": "markdown",
   "metadata": {
    "id": "iGIpB_C-QXCw"
   },
   "source": [
    "## Converting the data to sqlite db"
   ]
  },
  {
   "cell_type": "code",
   "execution_count": 19,
   "metadata": {
    "colab": {
     "base_uri": "https://localhost:8080/"
    },
    "id": "oH_eUFgDQM-N",
    "outputId": "d35e611e-cc8d-4e37-8819-1bc4619dffaf"
   },
   "outputs": [
    {
     "name": "stderr",
     "output_type": "stream",
     "text": [
      "100%|██████████| 80128/80128 [00:00<00:00, 155642.00it/s]\n"
     ]
    }
   ],
   "source": [
    "def save_data_to_db(db_file, data):\n",
    "    \"\"\" \n",
    "      Create a db file and save the data in it\n",
    "    \"\"\"\n",
    "    conn = None\n",
    "    try:\n",
    "        conn = sqlite3.connect(db_file)\n",
    "        c = conn.cursor()\n",
    "        # create table\n",
    "        c.execute('''CREATE TABLE IF NOT EXISTS locations (\n",
    "                        id integer PRIMARY KEY,\n",
    "                        city_name text NOT NULL,\n",
    "                        city_url text NOT NULL,\n",
    "                        locality_name text NOT NULL,\n",
    "                        price_range_per_sq_ft_low float,\n",
    "                        price_range_per_sq_ft_high float,\n",
    "                        avg_price_per_sq_ft float,\n",
    "                        price_rise float,\n",
    "                        type text NOT NULL,\n",
    "                        page integer NOT NULL\n",
    "                   );''')\n",
    "        \n",
    "        # insert data in the db file\n",
    "        l = len(data)\n",
    "        for id in tqdm(range(l)) :\n",
    "          row = data[id]\n",
    "          c.execute('''INSERT INTO locations(id,city_name,city_url,\n",
    "                        locality_name,price_range_per_sq_ft_low,\n",
    "                        price_range_per_sq_ft_high,avg_price_per_sq_ft,\n",
    "                        price_rise,type,page) VALUES(?,?,?,?,?,?,?,?,?,?);\n",
    "                  ''', (id, row['city_name'], row['city_url'], \n",
    "                        row['locality_name'], row['price_range_per_sq_ft_low'],\n",
    "                        row['price_range_per_sq_ft_high'],\n",
    "                        row['avg_price_per_sq_ft'], row['price_rise'],\n",
    "                        row['type'], row['page']))\n",
    "        conn.commit()\n",
    "    except Error as e:\n",
    "        print(e)\n",
    "    finally:\n",
    "        if conn:\n",
    "            conn.close()\n",
    "\n",
    "save_data_to_db(r\"makaan_locality_prices.db\", locality_prices2)"
   ]
  },
  {
   "cell_type": "markdown",
   "metadata": {
    "id": "e7DvQKCsfL7X"
   },
   "source": [
    "## Create Aggregation of Data"
   ]
  },
  {
   "cell_type": "code",
   "execution_count": 20,
   "metadata": {
    "id": "TGnKfqWYZMeb"
   },
   "outputs": [],
   "source": [
    "data = []\n",
    "\n",
    "city_pages = {city:set() for city in CITY_URLS.keys()}\n",
    "city_localities = {city:set() for city in CITY_URLS.keys()}\n",
    "\n",
    "for row in locality_prices2 : \n",
    "  city = row[\"city_name\"]\n",
    "  if city in CITY_URLS : \n",
    "    city_pages[city].add(row[\"page\"])\n",
    "    city_localities[city].add(row[\"locality_name\"])\n",
    "\n",
    "for city, url in CITY_URLS.items() : \n",
    "  data.append({\n",
    "      \"city_name\" : city,\n",
    "      \"city_url\" : url,\n",
    "      \"total_pages\" : len(city_pages[city]),\n",
    "      \"total_localities\": len(city_localities[city]) \n",
    "  })"
   ]
  },
  {
   "cell_type": "code",
   "execution_count": 21,
   "metadata": {
    "id": "E4saganfgS_b"
   },
   "outputs": [],
   "source": [
    "save_to_csv(data, \"makaan_localities.csv\")"
   ]
  },
  {
   "cell_type": "markdown",
   "metadata": {
    "id": "VndHo_3dd8Hp"
   },
   "source": [
    "## Saving the data on drive"
   ]
  },
  {
   "cell_type": "code",
   "execution_count": 22,
   "metadata": {
    "colab": {
     "base_uri": "https://localhost:8080/"
    },
    "id": "dqfIaZLqaZEE",
    "outputId": "75ac3bb1-8dc8-45e5-e847-4e41607c02ff"
   },
   "outputs": [
    {
     "name": "stdout",
     "output_type": "stream",
     "text": [
      "Mounted at /gdrive\n"
     ]
    }
   ],
   "source": [
    "from google.colab import drive\n",
    "drive.mount('/gdrive')"
   ]
  },
  {
   "cell_type": "code",
   "execution_count": 23,
   "metadata": {
    "id": "oYWGVPZsafWW"
   },
   "outputs": [],
   "source": [
    "!cp *.csv /gdrive/MyDrive/TealTaskV2/\n",
    "!cp makaan_locality_prices.db /gdrive/MyDrive/TealTaskV2/"
   ]
  }
 ],
 "metadata": {
  "colab": {
   "provenance": [],
   "toc_visible": true
  },
  "kernelspec": {
   "display_name": "Python 3 (ipykernel)",
   "language": "python",
   "name": "python3"
  },
  "language_info": {
   "codemirror_mode": {
    "name": "ipython",
    "version": 3
   },
   "file_extension": ".py",
   "mimetype": "text/x-python",
   "name": "python",
   "nbconvert_exporter": "python",
   "pygments_lexer": "ipython3",
   "version": "3.9.13"
  }
 },
 "nbformat": 4,
 "nbformat_minor": 1
}
