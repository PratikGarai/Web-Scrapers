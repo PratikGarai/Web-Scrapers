{
 "cells": [
  {
   "cell_type": "code",
   "execution_count": 1,
   "metadata": {},
   "outputs": [],
   "source": [
    "import requests as req\n",
    "import os"
   ]
  },
  {
   "cell_type": "code",
   "execution_count": 2,
   "metadata": {},
   "outputs": [],
   "source": [
    "URL = \"https://en.wikipedia.org/wiki/List_of_most_visited_websites\""
   ]
  },
  {
   "cell_type": "code",
   "execution_count": 3,
   "metadata": {},
   "outputs": [],
   "source": [
    "res = req.get(URL)"
   ]
  },
  {
   "cell_type": "code",
   "execution_count": 4,
   "metadata": {},
   "outputs": [
    {
     "data": {
      "text/plain": [
       "<Response [200]>"
      ]
     },
     "execution_count": 4,
     "metadata": {},
     "output_type": "execute_result"
    }
   ],
   "source": [
    "res"
   ]
  },
  {
   "cell_type": "code",
   "execution_count": 5,
   "metadata": {},
   "outputs": [
    {
     "name": "stdout",
     "output_type": "stream",
     "text": [
      "<class 'bytes'>\n",
      "b'<!DOCTYPE html>\\n<html class=\"client-nojs\" lang=\"en\" dir=\"ltr\">\\n<head>\\n<meta charset=\"UTF-8\"/>\\n<title>List of most visited websites - Wikipedia</title>'\n"
     ]
    }
   ],
   "source": [
    "content = res.content\n",
    "print(type(content))\n",
    "print(content[:150])"
   ]
  },
  {
   "cell_type": "markdown",
   "metadata": {},
   "source": [
    "## Get and write robots.txt"
   ]
  },
  {
   "cell_type": "code",
   "execution_count": 6,
   "metadata": {},
   "outputs": [],
   "source": [
    "rr = req.get(\"https://en.wikipedia.org/robots.txt\")"
   ]
  },
  {
   "cell_type": "code",
   "execution_count": 7,
   "metadata": {},
   "outputs": [
    {
     "name": "stdout",
     "output_type": "stream",
     "text": [
      "No data dir, creating it\n"
     ]
    }
   ],
   "source": [
    "if os.path.isdir(\"./data\"):\n",
    "    print(\"Data dir present already\")\n",
    "else :\n",
    "    print(\"No data dir, creating it\")\n",
    "    os.mkdir(\"data\")"
   ]
  },
  {
   "cell_type": "code",
   "execution_count": 8,
   "metadata": {},
   "outputs": [],
   "source": [
    "with open(\"data/wiki_popular_sites_robots.txt\", \"w+\", encoding=\"utf-8\") as f :\n",
    "    f.write(rr.text)"
   ]
  },
  {
   "cell_type": "markdown",
   "metadata": {},
   "source": [
    "## Exploting some important components"
   ]
  },
  {
   "cell_type": "code",
   "execution_count": 9,
   "metadata": {},
   "outputs": [
    {
     "name": "stdout",
     "output_type": "stream",
     "text": [
      "<class 'int'>\n",
      "200\n"
     ]
    }
   ],
   "source": [
    "print(type(res.status_code))\n",
    "print(res.status_code)"
   ]
  },
  {
   "cell_type": "code",
   "execution_count": 10,
   "metadata": {},
   "outputs": [
    {
     "name": "stdout",
     "output_type": "stream",
     "text": [
      "OK\n"
     ]
    }
   ],
   "source": [
    "print(res.reason)"
   ]
  },
  {
   "cell_type": "code",
   "execution_count": 11,
   "metadata": {},
   "outputs": [
    {
     "name": "stdout",
     "output_type": "stream",
     "text": [
      "True\n"
     ]
    }
   ],
   "source": [
    "print(res.ok)"
   ]
  },
  {
   "cell_type": "code",
   "execution_count": 12,
   "metadata": {},
   "outputs": [
    {
     "name": "stdout",
     "output_type": "stream",
     "text": [
      "<class 'requests.structures.CaseInsensitiveDict'>\n",
      "Date  :  Mon, 20 Dec 2021 14:47:50 GMT\n",
      "Server  :  mw1328.eqiad.wmnet\n",
      "X-Content-Type-Options  :  nosniff\n",
      "P3p  :  CP=\"See https://en.wikipedia.org/wiki/Special:CentralAutoLogin/P3P for more info.\"\n",
      "Content-Language  :  en\n",
      "Vary  :  Accept-Encoding,Cookie,Authorization\n",
      "Last-Modified  :  Mon, 20 Dec 2021 14:38:28 GMT\n",
      "Content-Type  :  text/html; charset=UTF-8\n",
      "Content-Encoding  :  gzip\n",
      "Age  :  31417\n",
      "X-Cache  :  cp5007 miss, cp5008 hit/15\n",
      "X-Cache-Status  :  hit-front\n",
      "Server-Timing  :  cache;desc=\"hit-front\", host;desc=\"cp5008\"\n",
      "Strict-Transport-Security  :  max-age=106384710; includeSubDomains; preload\n",
      "Report-To  :  { \"group\": \"wm_nel\", \"max_age\": 86400, \"endpoints\": [{ \"url\": \"https://intake-logging.wikimedia.org/v1/events?stream=w3c.reportingapi.network_error&schema_uri=/w3c/reportingapi/network_error/1.0.0\" }] }\n",
      "NEL  :  { \"report_to\": \"wm_nel\", \"max_age\": 86400, \"failure_fraction\": 0.05, \"success_fraction\": 0.0}\n",
      "Permissions-Policy  :  interest-cohort=()\n",
      "Set-Cookie  :  WMF-Last-Access=20-Dec-2021;Path=/;HttpOnly;secure;Expires=Fri, 21 Jan 2022 12:00:00 GMT, WMF-Last-Access-Global=20-Dec-2021;Path=/;Domain=.wikipedia.org;HttpOnly;secure;Expires=Fri, 21 Jan 2022 12:00:00 GMT, GeoIP=IN:WB:Kolkata:22.52:88.38:v4; Path=/; secure; Domain=.wikipedia.org\n",
      "X-Client-IP  :  2402:3a80:1967:dc0b:64f9:db4:9ab1:1e34\n",
      "Cache-Control  :  private, s-maxage=0, max-age=0, must-revalidate\n",
      "Accept-Ranges  :  bytes\n",
      "Content-Length  :  16887\n",
      "Connection  :  keep-alive\n"
     ]
    }
   ],
   "source": [
    "print(type(res.headers))\n",
    "for i, j in res.headers.items() :\n",
    "    print(i, \" : \", j)"
   ]
  },
  {
   "cell_type": "code",
   "execution_count": 13,
   "metadata": {},
   "outputs": [
    {
     "name": "stdout",
     "output_type": "stream",
     "text": [
      "<class 'list'>\n",
      "0\n"
     ]
    }
   ],
   "source": [
    "print(type(res.history))\n",
    "print(len(res.history))\n",
    "for i in res.history : \n",
    "    print(i)"
   ]
  },
  {
   "cell_type": "code",
   "execution_count": 14,
   "metadata": {},
   "outputs": [
    {
     "name": "stdout",
     "output_type": "stream",
     "text": [
      "<class 'requests.cookies.RequestsCookieJar'>\n",
      "<RequestsCookieJar[<Cookie GeoIP=IN:WB:Kolkata:22.52:88.38:v4 for .wikipedia.org/>, <Cookie WMF-Last-Access-Global=20-Dec-2021 for .wikipedia.org/>, <Cookie WMF-Last-Access=20-Dec-2021 for en.wikipedia.org/>]>\n"
     ]
    }
   ],
   "source": [
    "print(type(res.cookies))\n",
    "print(res.cookies)"
   ]
  },
  {
   "cell_type": "markdown",
   "metadata": {},
   "source": [
    "### Cookies, a closer look"
   ]
  },
  {
   "cell_type": "code",
   "execution_count": 15,
   "metadata": {},
   "outputs": [
    {
     "name": "stdout",
     "output_type": "stream",
     "text": [
      "get\n",
      "set\n",
      "iterkeys\n",
      "keys\n",
      "itervalues\n",
      "values\n",
      "iteritems\n",
      "items\n",
      "list_domains\n",
      "list_paths\n",
      "multiple_domains\n",
      "get_dict\n",
      "set_cookie\n",
      "update\n",
      "copy\n",
      "get_policy\n",
      "non_word_re\n",
      "quote_re\n",
      "strict_domain_re\n",
      "domain_re\n",
      "dots_re\n",
      "magic_re\n",
      "set_policy\n",
      "add_cookie_header\n",
      "make_cookies\n",
      "set_cookie_if_ok\n",
      "extract_cookies\n",
      "clear\n",
      "clear_session_cookies\n",
      "clear_expired_cookies\n",
      "pop\n",
      "popitem\n",
      "setdefault\n"
     ]
    }
   ],
   "source": [
    "# important stuff\n",
    "for i in res.cookies.__dir__() :\n",
    "    if not i.startswith(\"__\") and not i.startswith(\"_\") :\n",
    "        print(i)"
   ]
  },
  {
   "cell_type": "code",
   "execution_count": 16,
   "metadata": {},
   "outputs": [
    {
     "name": "stdout",
     "output_type": "stream",
     "text": [
      "GeoIP : IN:WB:Kolkata:22.52:88.38:v4\n",
      "WMF-Last-Access-Global : 20-Dec-2021\n",
      "WMF-Last-Access : 20-Dec-2021\n"
     ]
    }
   ],
   "source": [
    "for i, j in res.cookies.items() :\n",
    "    print(i, \":\", j)"
   ]
  },
  {
   "cell_type": "markdown",
   "metadata": {},
   "source": [
    "### Some other response stuff"
   ]
  },
  {
   "cell_type": "code",
   "execution_count": 17,
   "metadata": {},
   "outputs": [
    {
     "name": "stdout",
     "output_type": "stream",
     "text": [
      "status_code\n",
      "headers\n",
      "raw\n",
      "url\n",
      "encoding\n",
      "history\n",
      "reason\n",
      "cookies\n",
      "elapsed\n",
      "request\n",
      "connection\n",
      "ok\n",
      "is_redirect\n",
      "is_permanent_redirect\n",
      "next\n",
      "apparent_encoding\n",
      "iter_content\n",
      "iter_lines\n",
      "content\n",
      "text\n",
      "json\n",
      "links\n",
      "raise_for_status\n",
      "close\n"
     ]
    }
   ],
   "source": [
    "for i in res.__dir__():\n",
    "    if not i.startswith(\"__\") and not i.startswith(\"_\") :\n",
    "        print(i)"
   ]
  }
 ],
 "metadata": {
  "kernelspec": {
   "display_name": "Python 3",
   "language": "python",
   "name": "python3"
  },
  "language_info": {
   "codemirror_mode": {
    "name": "ipython",
    "version": 3
   },
   "file_extension": ".py",
   "mimetype": "text/x-python",
   "name": "python",
   "nbconvert_exporter": "python",
   "pygments_lexer": "ipython3",
   "version": "3.8.5"
  }
 },
 "nbformat": 4,
 "nbformat_minor": 4
}
