{
 "cells": [
  {
   "cell_type": "markdown",
   "id": "096d3539",
   "metadata": {},
   "source": [
    "# Approach \n",
    "1. Take a search term\n",
    "2. Search for related tags\n",
    "3. Auto find and click \"Search More\"\n",
    "4. Take a tag\n",
    "5. Get all top posts of the tag (all time most upvoted set by default)\n",
    "6. Get info of post\n",
    "7. Scrape post page\n",
    "8. Create Dataframe\n",
    "9. Export to file"
   ]
  },
  {
   "cell_type": "markdown",
   "id": "7e2b3370",
   "metadata": {},
   "source": [
    "# Imports"
   ]
  },
  {
   "cell_type": "code",
   "execution_count": 1,
   "id": "27371a5a",
   "metadata": {},
   "outputs": [],
   "source": [
    "from bs4 import BeautifulSoup\n",
    "import requests\n",
    "import re\n",
    "import time\n",
    "from tqdm import tqdm\n",
    "import pandas as pd\n",
    "from selenium import webdriver\n",
    "from selenium.webdriver.common.keys import Keys\n",
    "from selenium.webdriver.common.by import By"
   ]
  },
  {
   "cell_type": "markdown",
   "id": "ee0f5c13",
   "metadata": {},
   "source": [
    "# Helpers"
   ]
  },
  {
   "cell_type": "code",
   "execution_count": 2,
   "id": "0dd5ab49",
   "metadata": {},
   "outputs": [],
   "source": [
    "SEARCH_TERMS = [\n",
    "    \"soft skills\",\n",
    "]\n",
    "TAG_SEARCHER_URL = \"https://medium.com/search/tags?q=\"\n",
    "\n",
    "def urlify(string) :\n",
    "  return string.replace(' ', '+')\n",
    "\n",
    "def scrape_page(url, parser='html.parser') :\n",
    "  page = requests.get(url)\n",
    "  assert page.status_code==200, f\"Request did not pass. Status : {page.status_code}\"\n",
    "  return BeautifulSoup(page.content, parser) \n",
    "\n",
    "def get_driver_soup(driver, parser='html.parser') :\n",
    "  return BeautifulSoup(driver.page_source, parser) \n",
    "\n",
    "def print_max_n(lst, N=10) :\n",
    "  l = len(lst)\n",
    "  if N==-1 : \n",
    "    N = l\n",
    "  print(f\"Printing first {min(l, N)} of {l} : \")\n",
    "  for i in range(min(l, N)) :\n",
    "    print(lst[i])\n",
    "\n",
    "def GET_TOP_BLOGS_URL(url_tag, time=\"all-time\"): \n",
    "  assert time in [\"all-time\", \"year\", \"month\", \"week\"], \"Invalid time filter\"\n",
    "  return f\"https://medium.com/tag/{url_tag}/top/{time}\""
   ]
  },
  {
   "cell_type": "markdown",
   "id": "3229da93",
   "metadata": {},
   "source": [
    "# WebDriver Init"
   ]
  },
  {
   "cell_type": "code",
   "execution_count": 3,
   "id": "65a551b5",
   "metadata": {},
   "outputs": [],
   "source": [
    "options = webdriver.firefox.options.Options()\n",
    "options.set_preference(\"browser.privatebrowsing.autostart\", True)\n",
    "options.headless = True\n",
    "driver = webdriver.Firefox(options=options)"
   ]
  },
  {
   "cell_type": "markdown",
   "id": "eae1b81c",
   "metadata": {},
   "source": [
    "# Sample Runs"
   ]
  },
  {
   "cell_type": "markdown",
   "id": "ce40a966",
   "metadata": {},
   "source": [
    "## Get all related tags"
   ]
  },
  {
   "cell_type": "code",
   "execution_count": 4,
   "id": "87be56a4",
   "metadata": {},
   "outputs": [
    {
     "data": {
      "text/plain": [
       "'https://medium.com/search/tags?q=soft+skills'"
      ]
     },
     "execution_count": 4,
     "metadata": {},
     "output_type": "execute_result"
    }
   ],
   "source": [
    "SEARCH_INDEX = 0\n",
    "TAG_SEARCHER_URL+urlify(SEARCH_TERMS[SEARCH_INDEX])"
   ]
  },
  {
   "cell_type": "code",
   "execution_count": 5,
   "id": "3629469c",
   "metadata": {},
   "outputs": [
    {
     "name": "stdout",
     "output_type": "stream",
     "text": [
      "Clicked\n",
      "No more show more\n"
     ]
    }
   ],
   "source": [
    "driver.get(TAG_SEARCHER_URL+urlify(SEARCH_TERMS[SEARCH_INDEX]))\n",
    "\n",
    "while True : \n",
    "    try : \n",
    "        driver.execute_script(\"window.scrollTo(0, document.body.scrollHeight);\")\n",
    "        SHOW_MORE = driver.find_element(By.XPATH, '//button[contains(text(), \"Show more\")]')\n",
    "        SHOW_MORE.click()\n",
    "        print(\"Clicked\")\n",
    "        time.sleep(1)\n",
    "    except : \n",
    "        print(\"No more show more\")\n",
    "        break"
   ]
  },
  {
   "cell_type": "code",
   "execution_count": 6,
   "id": "964301e9",
   "metadata": {},
   "outputs": [],
   "source": [
    "doc = get_driver_soup(driver)"
   ]
  },
  {
   "cell_type": "code",
   "execution_count": 7,
   "id": "0eb44117",
   "metadata": {},
   "outputs": [
    {
     "name": "stdout",
     "output_type": "stream",
     "text": [
      "Printing first 10 of 34 : \n",
      "Soft Skills\n",
      "Soft Skills Training\n",
      "Soft Skills Development\n",
      "Soft Skills Trainer\n",
      "Soft Skills Workshop\n",
      "Soft Skills Courses\n",
      "Soft Skills India\n",
      "Soft Skills For Kids\n",
      "Soft Skills Companies\n",
      "Soft Skills For Nurses\n",
      "Printing first 10 of 34 : \n",
      "soft-skills\n",
      "soft-skills-training\n",
      "soft-skills-development\n",
      "soft-skills-trainer\n",
      "soft-skills-workshop\n",
      "soft-skills-courses\n",
      "soft-skills-india\n",
      "soft-skills-for-kids\n",
      "soft-skills-companies\n",
      "soft-skills-for-nurses\n"
     ]
    }
   ],
   "source": [
    "TAG_NAMES = []\n",
    "URLS_TAGS = []\n",
    "\n",
    "for element in doc.find_all(href=re.compile(\"/tag/.*\\?source=\")) : \n",
    "  href = element.attrs[\"href\"]\n",
    "  res = re.search(f\"/[A-Za-z0-9\\-]+\\?\", href)\n",
    "  if res : \n",
    "    b, e = res.span()\n",
    "    TAG_NAMES.append(element.text)\n",
    "    URLS_TAGS.append(href[b+1:e-1])\n",
    "print_max_n(TAG_NAMES)\n",
    "print_max_n(URLS_TAGS)"
   ]
  },
  {
   "cell_type": "markdown",
   "id": "ec02f02e",
   "metadata": {},
   "source": [
    "## Get Top Posts of the tag"
   ]
  },
  {
   "cell_type": "code",
   "execution_count": 8,
   "id": "281ea0ab",
   "metadata": {},
   "outputs": [],
   "source": [
    "TAG_INDEX = 0\n",
    "doc2 = scrape_page(GET_TOP_BLOGS_URL(URLS_TAGS[TAG_INDEX]))"
   ]
  },
  {
   "cell_type": "code",
   "execution_count": 9,
   "id": "27dab4c1",
   "metadata": {},
   "outputs": [],
   "source": [
    "posts = []\n",
    "\n",
    "for article in doc2.find_all(\"article\") :\n",
    "  data = {}\n",
    "  reading_time_element = article.find(lambda x :  x.has_attr(\"aria-label\") and x.attrs[\"aria-label\"]==\"Post Preview Reading Time\")\n",
    "  if reading_time_element : \n",
    "    data[\"rtime\"] = reading_time_element.text\n",
    "  post_preview_element = article.find(lambda x :  x.has_attr(\"aria-label\") and x.attrs[\"aria-label\"]==\"Post Preview Title\")\n",
    "  if post_preview_element : \n",
    "    if post_preview_element.has_attr(\"href\") :\n",
    "      res = re.search(\"/[A-Za-z0-9\\-\\/]+\\?\", post_preview_element.attrs[\"href\"])\n",
    "      b, e = res.span()\n",
    "      data[\"article_url\"] = \"https://medium.com/\"+ post_preview_element.attrs[\"href\"][b+1 : e-1]\n",
    "    heading_element = post_preview_element.find(\"h2\")\n",
    "    if heading_element : \n",
    "      data[\"heading\"] = heading_element.text\n",
    "    para_element = post_preview_element.find(\"p\")\n",
    "    if para_element : \n",
    "      data[\"text_preview\"] = para_element.text\n",
    "  post_image_element = article.find(lambda x :  x.has_attr(\"aria-label\") and x.attrs[\"aria-label\"]==\"Post Preview Image\")\n",
    "  if post_image_element : \n",
    "    image_element = post_image_element.find(\"img\")\n",
    "    if image_element : \n",
    "      data[\"image_url\"] = image_element.attrs[\"src\"]\n",
    "  data[\"search_term\"] = SEARCH_TERMS[SEARCH_INDEX]\n",
    "  data[\"url_tag\"] = URLS_TAGS[TAG_INDEX]\n",
    "  data[\"tag_name\"] = TAG_NAMES[TAG_INDEX]\n",
    "  posts.append(data)"
   ]
  },
  {
   "cell_type": "code",
   "execution_count": 10,
   "id": "7028bbcb",
   "metadata": {},
   "outputs": [
    {
     "data": {
      "text/plain": [
       "{'rtime': '14 min read',\n",
       " 'article_url': 'https://medium.com/swlh/how-to-lead-when-you-have-no-authority-9f22206356d4',\n",
       " 'heading': 'How To Lead When You Have No Authority',\n",
       " 'text_preview': 'Four Pillars to Increase Your Influence Both at Work And in Life —  Everyone remembers the 2002 movie, My Big Fat Greek Wedding. It’s a hilarious story about the struggles of Toula (the daughter of a traditional Greek family) as she tries to fall in love and get married. There is one particular scene where Toula asks her father permission to go to…',\n",
       " 'image_url': 'https://miro.medium.com/fit/c/224/224/1*4LGVOiW7jWqnTW5h6yJWDw.jpeg',\n",
       " 'search_term': 'soft skills',\n",
       " 'url_tag': 'soft-skills',\n",
       " 'tag_name': 'Soft Skills'}"
      ]
     },
     "execution_count": 10,
     "metadata": {},
     "output_type": "execute_result"
    }
   ],
   "source": [
    "posts[0]"
   ]
  },
  {
   "cell_type": "markdown",
   "id": "520a4c97",
   "metadata": {},
   "source": [
    "## Scrape single page"
   ]
  },
  {
   "cell_type": "code",
   "execution_count": 11,
   "id": "49db2629",
   "metadata": {},
   "outputs": [],
   "source": [
    "article_url = \"https://betterprogramming.pub/communication-skills-a-core-part-of-software-engineering-c7d379cebd66\"\n",
    "driver.get(article_url)\n",
    "time.sleep(10)\n",
    "doc3 = get_driver_soup(driver)"
   ]
  },
  {
   "cell_type": "code",
   "execution_count": 12,
   "id": "343858c6",
   "metadata": {},
   "outputs": [
    {
     "name": "stdout",
     "output_type": "stream",
     "text": [
      "Communication skills. They come into play when writing documentation for frameworks and libraries, or when sending emails or slack messages to coworkers. They’re an important factor in how two or more people convey complex ideas and concepts to each other, which is core to collaborating as a software developer. And, more recently, communication skills have become an important part of software developer interviews, where most companies will check for a level of aptitude in a candidate’s communication skills.\n",
      "But we throw communication in the soft skills category, where it lives as a second class citizen to the more dignified technical skills. Maybe it’s the name soft skills that gives it that feeling of being lesser-than, but communication skills are sometimes simply considered as nice to have. However, it is an imperative skill for a successful career in tech, as the need to communicate more complex ideas to a wider group of people becomes an increasingly important part of the job. It’s also an important factor for making the tech industry more inclusive by enabling people from different backgrounds to work well with each other on projects.\n",
      "When we look at software development, we talk a lot about the amazing inventions and technologies that will move our global society one step further. But in reality, it’s people, real people — not machines, algorithms, or robots — who decide what gets built, how it gets built, and when and where it gets into the hands of people who’ll use it. There’s a very human aspect to software engineering, so in a big sense, software development requires very human skills in order to do the best job. So, it’s only natural that, in a highly detailed and skilled job like software development, communication is key.\n",
      "Today I wanted to discuss three major steps and concepts that can help level up your communication skills:\n",
      "These steps set up a great foundation for communicating effectively with other people. They have all been important themes in my own software engineering career, and I believe these steps really helped to level up my communication skills early on.\n",
      "The first step in becoming a great communicator is to be a great listener.\n",
      "As software engineers, we know that, when solving a problem, we need to gather as much information as possible in order to come up with the best solution and make the best decision. It turns out that this is a great practice for solving and for communicating, too. That’s because great communication happens when all parties reaches a point of mutual understanding.\n",
      "We all communicate in vastly different ways. If you ask two people how to describe a technical concept, it’s likely that they’ll use very different sets of words to explain the same thing. A ton of things factor into how different people communicate with each other — different languages, upbringing, hometowns, etc.\n",
      "But in a highly technical job like software engineering, it makes a huge difference to reach a mutual understanding. Differences in understanding of the implementation can lead to errors and bugs, extended project timelines, and disappointment from unmet expectations.\n",
      "In order to reach a mutual understanding, it’s important to both convey your own thoughts and to fully listen to another person’s. We often don’t talk about listening skills being a part of communication in tech, so today I have three methods on how to be a better listener:\n",
      "This is when you hear someone’s words, pause, and then play back to them what you thought they said in your own words. This creates an opportunity for yourself to ingest and present your own interpretation of someone’s meaning, and also creates a chance for the other person to correct your understanding in case it’s misaligned. Here’s an example:\n",
      "Person 1: So how long do you think the project is going to take?\n",
      "Person 2: Well, the back end is gonna take maybe like three days to make, and there’s also a dependency with another team, so maybe another two days too. The UI will take about six days right now given my estimates, and I’m also still waiting on them to finish up.\n",
      "Person 1: (Playback) So it sounds like it’ll take about nine days at least, depending on other people and teams?\n",
      "Person 2: That’s right!\n",
      "The important part here is when Person 1 says “it sounds like” — and they say what they understood in their own words.\n",
      "When having a conversation with someone, make sure to give them time to say everything they need before adding on to the conversation. If you have a question or idea, they might answer your question or get to the idea before you interject. It’s also impolite to cut someone off and can lead to poorly managed relationships with coworkers.\n",
      "There’s a really big difference in the experience of talking to someone who is physically engaged versus physically disengaged in a conversation.\n",
      "Showing engagement signals interest in the topic and leads way to a more productive and enthusiastic conversation. Ways to use positive body language include: a comfortable amount of eye contact, good posture, using hand gestures while speaking, and focusing on the conversation (e.g. don’t use your phone or while talking to someone).\n",
      "These are all great ways to level up your listening skills — this will enable you to communicate effectively with people you work with on your team and at your company. But a big part of software engineering is also public speaking — this is not just limited to meetups and conferences, but also come to play within your company and team as well.\n",
      "Public speaking is an important skill to work on as a software engineer. It’s one of the common ways that software engineers express ideas, whether that be in product demos, architectural overviews, or even standup updates where you’re talking to multiple people at once. It’s also worth noting that the more you advance in your career, the more public speaking you’re likely to encounter as your audience widens to more people and the scope of your work increases in size and complexity.\n",
      "When working on your public speaking, it’s helpful to first visualize what a great example of public speaking looks like. Especially for technical talks, it’s usually characterized by:\n",
      "This is obviously a lot to think about while speaking, so the most important thing you can do to get better at public speaking is to practice. Practice, practice, practice.\n",
      "Taking an iterative approach to improving these skills enables you to start early and quickly and correct the mistakes that you make along the way. So, practice giving your speech or talk before you actually need to deliver it. Here are some tips to practice purposefully:\n",
      "Next, we’ll move on to an underlying theme that greatly improves communication in tech: Empathy.\n",
      "Empathy is the act of putting yourself in someone else’s shoes to try to understand their feelings and ideas.\n",
      "It’s a core part of the software engineering job because the stuff you’re making is for other people. You need to understand their needs about how they’ll use a product so that you can make a better product.\n",
      "And, you’re making this stuff with other people. You’ll work with people in so many different roles — product managers, designers, data scientists, managers, other software engineers. And, all of them will be individually unique in how they communicate.\n",
      "Putting yourself in their shoes will help you understand how to effectively communicate with them so that you can reach mutual understanding.\n",
      "So, how do you get better at empathy? I think that it’s a combination of being a great listener and establishing strong relationships with the people around you. Learning about other people’s backgrounds, their motivations, and their passions will help you to see the bigger picture of what makes that person unique. Understanding where a person is coming from helps you to shift your communication style accordingly.\n",
      "For example, if someone is new to your company, you’ll know to explain acronyms that are commonly used internally, since they probably don’t know them yet. Alternatively, if you’re talking to someone whose role doesn’t require a technical background, it could be important to use easy-to-understand technical terms, or to explain those concepts as you go so that they can be on the same page as you.\n",
      "Using empathy in communication doesn’t mean that you have to be judgmental — it means the opposite. It’s counterproductive to judge someone for what they know and what they don’t know . Helping each other get to a common understanding by using common language is a key ingredient in successful communication.\n",
      "All of these skills — listening, public speaking, and empathy — can ultimately help you and others reach common ground and mutual understanding about ideas, thoughts, and work. This is the most important thing about communication.\n",
      "As a tech community, we really shouldn’t discount these skills — they help move projects, companies, and organizations forward. It’s an important skill to look for in software engineering interviews and should be an expectation of people in technical roles. Because when software engineers communicate effectively together, great things happen — great things get built!\n"
     ]
    }
   ],
   "source": [
    "elems = doc3.select('''article section p, \n",
    "article section p h1, \n",
    "article section p h2, \n",
    "article section p h3, \n",
    "article section p h4, \n",
    "article section p h5, \n",
    "article section p h6, \n",
    "article section p li''')\n",
    "res =\"\\n\".join(map(lambda x : x.text, elems))\n",
    "print(res)"
   ]
  },
  {
   "cell_type": "markdown",
   "id": "ee1429ac",
   "metadata": {},
   "source": [
    "# Putting it all together"
   ]
  },
  {
   "cell_type": "code",
   "execution_count": 13,
   "id": "8d7684f9",
   "metadata": {},
   "outputs": [
    {
     "name": "stderr",
     "output_type": "stream",
     "text": [
      "Processing Term : soft skills: 100%|███████████| 34/34 [06:47<00:00, 11.98s/it]\n"
     ]
    }
   ],
   "source": [
    "article_selectors = '''article section p, \n",
    "article section p h1, \n",
    "article section p h2, \n",
    "article section p h3, \n",
    "article section p h4, \n",
    "article section p h5, \n",
    "article section p h6, \n",
    "article section p li,\n",
    "article section li'''\n",
    "\n",
    "def get_post_content(driver, url) :\n",
    "  driver.get(url)\n",
    "  time.sleep(2)\n",
    "  doc3 = get_driver_soup(driver)\n",
    "  elems = doc3.select(\"article section\")\n",
    "  res =\"\\n\".join(map(lambda x : x.text, elems))\n",
    "  return res\n",
    "\n",
    "posts = []\n",
    "skipped = []\n",
    "lsi = len(SEARCH_TERMS)\n",
    "for SEARCH_INDEX in range(lsi) :\n",
    "  time.sleep(0.5) # Avoid rate limit\n",
    "  driver.get(TAG_SEARCHER_URL+urlify(SEARCH_TERMS[SEARCH_INDEX]))\n",
    "  while True : \n",
    "    try : \n",
    "      driver.execute_script(\"window.scrollTo(0, document.body.scrollHeight);\")\n",
    "      SHOW_MORE = driver.find_element(By.XPATH, '//button[contains(text(), \"Show more\")]')\n",
    "      SHOW_MORE.click()\n",
    "      time.sleep(1)\n",
    "    except : \n",
    "      break\n",
    "  doc = get_driver_soup(driver)\n",
    "  TAG_NAMES = []\n",
    "  URLS_TAGS = []\n",
    "\n",
    "  for element in doc.find_all(href=re.compile(\"/tag/.*\\?source=\")) : \n",
    "    href = element.attrs[\"href\"]\n",
    "    res = re.search(f\"/[A-Za-z0-9\\-]+\\?\", href)\n",
    "    if res : \n",
    "      b, e = res.span()\n",
    "      TAG_NAMES.append(element.text)\n",
    "      URLS_TAGS.append(href[b+1:e-1])\n",
    "  \n",
    "  lti = len(TAG_NAMES)\n",
    "  for TAG_INDEX in tqdm(range(lti), desc=f\"Processing Term : {SEARCH_TERMS[SEARCH_INDEX]}\") :\n",
    "    time.sleep(1) # Avoid rate limit\n",
    "    doc2 = scrape_page(GET_TOP_BLOGS_URL(URLS_TAGS[TAG_INDEX]))\n",
    "    for article in doc2.find_all(\"article\") :\n",
    "      data = {}\n",
    "      reading_time_element = article.find(lambda x :  x.has_attr(\"aria-label\") and x.attrs[\"aria-label\"]==\"Post Preview Reading Time\")\n",
    "      if reading_time_element : \n",
    "        data[\"rtime\"] = reading_time_element.text\n",
    "      post_preview_element = article.find(lambda x :  x.has_attr(\"aria-label\") and x.attrs[\"aria-label\"]==\"Post Preview Title\")\n",
    "      if post_preview_element : \n",
    "        if post_preview_element.has_attr(\"href\") :\n",
    "          res = re.search(\"/.+\\?\", post_preview_element.attrs[\"href\"])\n",
    "          if not res : \n",
    "            continue\n",
    "          b, e = res.span()\n",
    "          data[\"article_url\"] = \"https://medium.com/\"+ post_preview_element.attrs[\"href\"][b+1 : e-1]\n",
    "          try : \n",
    "            data[\"content\"] = get_post_content(driver, data[\"article_url\"])\n",
    "          except :\n",
    "            skipped.append(data[\"article_url\"])\n",
    "            continue\n",
    "        heading_element = post_preview_element.find(\"h2\")\n",
    "        if heading_element : \n",
    "          data[\"heading\"] = heading_element.text\n",
    "        para_element = post_preview_element.find(\"p\")\n",
    "        if para_element : \n",
    "          data[\"text_preview\"] = para_element.text\n",
    "      post_image_element = article.find(lambda x :  x.has_attr(\"aria-label\") and x.attrs[\"aria-label\"]==\"Post Preview Image\")\n",
    "      if post_image_element : \n",
    "        image_element = post_image_element.find(\"img\")\n",
    "        if image_element : \n",
    "          data[\"image_url\"] = image_element.attrs[\"src\"]\n",
    "      data[\"search_term\"] = SEARCH_TERMS[SEARCH_INDEX]\n",
    "      data[\"url_tag\"] = URLS_TAGS[TAG_INDEX]\n",
    "      data[\"tag_name\"] = TAG_NAMES[TAG_INDEX]\n",
    "      posts.append(data)"
   ]
  },
  {
   "cell_type": "code",
   "execution_count": 14,
   "id": "aaffda8a",
   "metadata": {},
   "outputs": [
    {
     "data": {
      "text/plain": [
       "70"
      ]
     },
     "execution_count": 14,
     "metadata": {},
     "output_type": "execute_result"
    }
   ],
   "source": [
    "len(posts)"
   ]
  },
  {
   "cell_type": "code",
   "execution_count": 15,
   "id": "a747504a",
   "metadata": {},
   "outputs": [],
   "source": [
    "df = pd.DataFrame(posts)"
   ]
  },
  {
   "cell_type": "code",
   "execution_count": 16,
   "id": "1fd14658",
   "metadata": {},
   "outputs": [],
   "source": [
    "df.columns = [\"Reading Time\", \"URL\", \"Content\", \"Heading\", \"Content\", \"Image URL\", \"Skill\", \"URL Tag\", \"Tag\"]"
   ]
  },
  {
   "cell_type": "code",
   "execution_count": 17,
   "id": "06805820",
   "metadata": {},
   "outputs": [
    {
     "name": "stdout",
     "output_type": "stream",
     "text": [
      "<class 'pandas.core.frame.DataFrame'>\n",
      "RangeIndex: 70 entries, 0 to 69\n",
      "Data columns (total 9 columns):\n",
      " #   Column        Non-Null Count  Dtype \n",
      "---  ------        --------------  ----- \n",
      " 0   Reading Time  70 non-null     object\n",
      " 1   URL           70 non-null     object\n",
      " 2   Content       70 non-null     object\n",
      " 3   Heading       70 non-null     object\n",
      " 4   Content       70 non-null     object\n",
      " 5   Image URL     69 non-null     object\n",
      " 6   Skill         70 non-null     object\n",
      " 7   URL Tag       70 non-null     object\n",
      " 8   Tag           70 non-null     object\n",
      "dtypes: object(9)\n",
      "memory usage: 5.0+ KB\n"
     ]
    }
   ],
   "source": [
    "df.info()"
   ]
  },
  {
   "cell_type": "code",
   "execution_count": 18,
   "id": "8f639ce7",
   "metadata": {},
   "outputs": [
    {
     "data": {
      "text/html": [
       "<div>\n",
       "<style scoped>\n",
       "    .dataframe tbody tr th:only-of-type {\n",
       "        vertical-align: middle;\n",
       "    }\n",
       "\n",
       "    .dataframe tbody tr th {\n",
       "        vertical-align: top;\n",
       "    }\n",
       "\n",
       "    .dataframe thead th {\n",
       "        text-align: right;\n",
       "    }\n",
       "</style>\n",
       "<table border=\"1\" class=\"dataframe\">\n",
       "  <thead>\n",
       "    <tr style=\"text-align: right;\">\n",
       "      <th></th>\n",
       "      <th>Reading Time</th>\n",
       "      <th>URL</th>\n",
       "      <th>Content</th>\n",
       "      <th>Heading</th>\n",
       "      <th>Content</th>\n",
       "      <th>Image URL</th>\n",
       "      <th>Skill</th>\n",
       "      <th>URL Tag</th>\n",
       "      <th>Tag</th>\n",
       "    </tr>\n",
       "  </thead>\n",
       "  <tbody>\n",
       "    <tr>\n",
       "      <th>0</th>\n",
       "      <td>14 min read</td>\n",
       "      <td>https://medium.com/swlh/how-to-lead-when-you-h...</td>\n",
       "      <td>How To Lead When You Have No AuthorityFour Pil...</td>\n",
       "      <td>How To Lead When You Have No Authority</td>\n",
       "      <td>Four Pillars to Increase Your Influence Both a...</td>\n",
       "      <td>https://miro.medium.com/fit/c/224/224/1*4LGVOi...</td>\n",
       "      <td>soft skills</td>\n",
       "      <td>soft-skills</td>\n",
       "      <td>Soft Skills</td>\n",
       "    </tr>\n",
       "    <tr>\n",
       "      <th>1</th>\n",
       "      <td>10 min read</td>\n",
       "      <td>https://medium.com/newco/hard-and-soft-skills-...</td>\n",
       "      <td>Hard and Soft Skills in TechIt’s both more ser...</td>\n",
       "      <td>Hard and Soft Skills in Tech</td>\n",
       "      <td>It’s both more serious and less serious than w...</td>\n",
       "      <td>https://miro.medium.com/fit/c/224/224/1*KOzo8n...</td>\n",
       "      <td>soft skills</td>\n",
       "      <td>soft-skills</td>\n",
       "      <td>Soft Skills</td>\n",
       "    </tr>\n",
       "    <tr>\n",
       "      <th>2</th>\n",
       "      <td>8 min read</td>\n",
       "      <td>https://medium.com/hackernoon/the-one-essentia...</td>\n",
       "      <td>The one essential skill that will set you apar...</td>\n",
       "      <td>The one essential skill that will set you apar...</td>\n",
       "      <td>and how you can hone this skill in five easy w...</td>\n",
       "      <td>https://miro.medium.com/fit/c/224/224/1*dhwHUl...</td>\n",
       "      <td>soft skills</td>\n",
       "      <td>soft-skills</td>\n",
       "      <td>Soft Skills</td>\n",
       "    </tr>\n",
       "    <tr>\n",
       "      <th>3</th>\n",
       "      <td>7 min read</td>\n",
       "      <td>https://medium.com/hackernoon/10-soft-skills-e...</td>\n",
       "      <td>10 Soft Skills Every Developer NeedsOxford Dic...</td>\n",
       "      <td>10 Soft Skills Every Developer Needs</td>\n",
       "      <td>Oxford Dictionary describes soft skills as: Pe...</td>\n",
       "      <td>https://miro.medium.com/fit/c/224/224/1*A-1Rzp...</td>\n",
       "      <td>soft skills</td>\n",
       "      <td>soft-skills</td>\n",
       "      <td>Soft Skills</td>\n",
       "    </tr>\n",
       "    <tr>\n",
       "      <th>4</th>\n",
       "      <td>10 min read</td>\n",
       "      <td>https://medium.com/@jacobcomer/bridging-the-ga...</td>\n",
       "      <td>Bridging the Gap Between Junior and Senior Eng...</td>\n",
       "      <td>Bridging the Gap Between Junior and Senior Eng...</td>\n",
       "      <td>Bridging the Gap Between Junior and Senior Eng...</td>\n",
       "      <td>https://miro.medium.com/fit/c/224/224/1*PA_JLj...</td>\n",
       "      <td>soft skills</td>\n",
       "      <td>soft-skills</td>\n",
       "      <td>Soft Skills</td>\n",
       "    </tr>\n",
       "  </tbody>\n",
       "</table>\n",
       "</div>"
      ],
      "text/plain": [
       "  Reading Time                                                URL  \\\n",
       "0  14 min read  https://medium.com/swlh/how-to-lead-when-you-h...   \n",
       "1  10 min read  https://medium.com/newco/hard-and-soft-skills-...   \n",
       "2   8 min read  https://medium.com/hackernoon/the-one-essentia...   \n",
       "3   7 min read  https://medium.com/hackernoon/10-soft-skills-e...   \n",
       "4  10 min read  https://medium.com/@jacobcomer/bridging-the-ga...   \n",
       "\n",
       "                                             Content  \\\n",
       "0  How To Lead When You Have No AuthorityFour Pil...   \n",
       "1  Hard and Soft Skills in TechIt’s both more ser...   \n",
       "2  The one essential skill that will set you apar...   \n",
       "3  10 Soft Skills Every Developer NeedsOxford Dic...   \n",
       "4  Bridging the Gap Between Junior and Senior Eng...   \n",
       "\n",
       "                                             Heading  \\\n",
       "0             How To Lead When You Have No Authority   \n",
       "1                       Hard and Soft Skills in Tech   \n",
       "2  The one essential skill that will set you apar...   \n",
       "3               10 Soft Skills Every Developer Needs   \n",
       "4  Bridging the Gap Between Junior and Senior Eng...   \n",
       "\n",
       "                                             Content  \\\n",
       "0  Four Pillars to Increase Your Influence Both a...   \n",
       "1  It’s both more serious and less serious than w...   \n",
       "2  and how you can hone this skill in five easy w...   \n",
       "3  Oxford Dictionary describes soft skills as: Pe...   \n",
       "4  Bridging the Gap Between Junior and Senior Eng...   \n",
       "\n",
       "                                           Image URL        Skill  \\\n",
       "0  https://miro.medium.com/fit/c/224/224/1*4LGVOi...  soft skills   \n",
       "1  https://miro.medium.com/fit/c/224/224/1*KOzo8n...  soft skills   \n",
       "2  https://miro.medium.com/fit/c/224/224/1*dhwHUl...  soft skills   \n",
       "3  https://miro.medium.com/fit/c/224/224/1*A-1Rzp...  soft skills   \n",
       "4  https://miro.medium.com/fit/c/224/224/1*PA_JLj...  soft skills   \n",
       "\n",
       "       URL Tag          Tag  \n",
       "0  soft-skills  Soft Skills  \n",
       "1  soft-skills  Soft Skills  \n",
       "2  soft-skills  Soft Skills  \n",
       "3  soft-skills  Soft Skills  \n",
       "4  soft-skills  Soft Skills  "
      ]
     },
     "execution_count": 18,
     "metadata": {},
     "output_type": "execute_result"
    }
   ],
   "source": [
    "df.head()"
   ]
  },
  {
   "cell_type": "code",
   "execution_count": 19,
   "id": "624f9d42",
   "metadata": {},
   "outputs": [
    {
     "data": {
      "text/plain": [
       "soft skills    70\n",
       "Name: Skill, dtype: int64"
      ]
     },
     "execution_count": 19,
     "metadata": {},
     "output_type": "execute_result"
    }
   ],
   "source": [
    "df[\"Skill\"].value_counts()"
   ]
  },
  {
   "cell_type": "code",
   "execution_count": 20,
   "id": "0e9464f4",
   "metadata": {},
   "outputs": [],
   "source": [
    "df.to_excel(\"Medium Posts v2.xlsx\", index=False)"
   ]
  }
 ],
 "metadata": {
  "kernelspec": {
   "display_name": "Python 3 (ipykernel)",
   "language": "python",
   "name": "python3"
  },
  "language_info": {
   "codemirror_mode": {
    "name": "ipython",
    "version": 3
   },
   "file_extension": ".py",
   "mimetype": "text/x-python",
   "name": "python",
   "nbconvert_exporter": "python",
   "pygments_lexer": "ipython3",
   "version": "3.9.13"
  }
 },
 "nbformat": 4,
 "nbformat_minor": 5
}
